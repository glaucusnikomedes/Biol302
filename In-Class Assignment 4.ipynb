{
 "cells": [
  {
   "cell_type": "code",
   "execution_count": 15,
   "metadata": {
    "collapsed": true
   },
   "outputs": [],
   "source": [
    "def read_fasta_file(filename):\n",
    "    contents = open(filename).read()\n",
    "    out = []\n",
    "    for seqrec in contents.split('>'):\n",
    "        if not seqrec:\n",
    "            continue\n",
    "        lines = seqrec.split('\\n')\n",
    "        header = lines[0]\n",
    "        seq = ''.join(lines[1:])\n",
    "        out.append(dict(header=header, sequence=seq))\n",
    "    return out"
   ]
  },
  {
   "cell_type": "code",
   "execution_count": 27,
   "metadata": {
    "collapsed": false
   },
   "outputs": [],
   "source": [
    "def summarize_fasta(fname):\n",
    "    fasta = read_fasta_file('Eutheria_cyt_b_sequence.fasta')\n",
    "    seq_count = len(fasta)\n",
    "    total, minimum, maximum = 0.0, 0, 0\n",
    "    for key in fasta:\n",
    "        seq_length = len(key['sequence'])\n",
    "        total += seq_length\n",
    "        if minimum == 0 and maximum == 0:\n",
    "            minimum = maximum = seq_length\n",
    "        if seq_length > maximum:\n",
    "            maximum = seq_length\n",
    "        if seq_length < minimum:\n",
    "            minimum = seq_length\n",
    "    print('Sequences = ' + str(seq_count))\n",
    "    print('Mean Length (bp) = ' + str(total / seq_count))\n",
    "    print('Max Length (bp) = ' + str(maximum))\n",
    "    print('Min Length (bp) = ' + str(minimum))"
   ]
  },
  {
   "cell_type": "code",
   "execution_count": 39,
   "metadata": {
    "collapsed": false,
    "scrolled": false
   },
   "outputs": [
    {
     "name": "stdout",
     "output_type": "stream",
     "text": [
      "Sequences = 58\n",
      "Mean Length (bp) = 1140.0\n",
      "Max Length (bp) = 1140\n",
      "Min Length (bp) = 1140\n",
      "['martian', 'gDNA', 'http://martian-sequences.io']\n",
      "['unicorn', 'cDNA', 'http://unicorn-genomics.ly']\n"
     ]
    }
   ],
   "source": [
    "summarize_fasta('Eutheria_cyt_b_sequence.fasta')\n",
    "contents = read_fasta_file('example.fasta')\n",
    "for seq in contents:\n",
    "    header = seq['header'].split(',')\n",
    "    print(header)"
   ]
  },
  {
   "cell_type": "code",
   "execution_count": null,
   "metadata": {
    "collapsed": true
   },
   "outputs": [],
   "source": []
  }
 ],
 "metadata": {
  "kernelspec": {
   "display_name": "Python 3",
   "language": "python",
   "name": "python3"
  },
  "language_info": {
   "codemirror_mode": {
    "name": "ipython",
    "version": 3
   },
   "file_extension": ".py",
   "mimetype": "text/x-python",
   "name": "python",
   "nbconvert_exporter": "python",
   "pygments_lexer": "ipython3",
   "version": "3.5.1"
  }
 },
 "nbformat": 4,
 "nbformat_minor": 0
}
