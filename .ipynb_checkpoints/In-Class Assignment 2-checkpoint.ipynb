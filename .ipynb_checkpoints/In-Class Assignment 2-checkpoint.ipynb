{
 "cells": [
  {
   "cell_type": "code",
   "execution_count": 20,
   "metadata": {
    "collapsed": false
   },
   "outputs": [
    {
     "name": "stdout",
     "output_type": "stream",
     "text": [
      "Monkey\n",
      "Sheep\n",
      "Rooster\n",
      "Snake\n"
     ]
    }
   ],
   "source": [
    "cz_order = 'Rat Ox Tiger Rabbit Dragon Snake Horse Sheep Monkey Rooster Dog Pig'.split()\n",
    "monkey_ref_year = 2016\n",
    "def year_to_zodiac(yr):\n",
    "    mod_yr = (yr - 4) % 12\n",
    "    zodiac = cz_order[mod_yr]\n",
    "    return zodiac\n",
    "\n",
    "assert year_to_zodiac(2016) == 'Monkey'\n",
    "assert year_to_zodiac(2015) == 'Sheep'\n",
    "assert year_to_zodiac(2017) == 'Rooster'\n",
    "assert year_to_zodiac(1977) == 'Snake'\n",
    "\n",
    "print(year_to_zodiac(2016))\n",
    "print(year_to_zodiac(2015))\n",
    "print(year_to_zodiac(2017))\n",
    "print(year_to_zodiac(1977))"
   ]
  },
  {
   "cell_type": "code",
   "execution_count": null,
   "metadata": {
    "collapsed": true
   },
   "outputs": [],
   "source": []
  }
 ],
 "metadata": {
  "kernelspec": {
   "display_name": "Python 3",
   "language": "python",
   "name": "python3"
  },
  "language_info": {
   "codemirror_mode": {
    "name": "ipython",
    "version": 3
   },
   "file_extension": ".py",
   "mimetype": "text/x-python",
   "name": "python",
   "nbconvert_exporter": "python",
   "pygments_lexer": "ipython3",
   "version": "3.5.1"
  }
 },
 "nbformat": 4,
 "nbformat_minor": 0
}
