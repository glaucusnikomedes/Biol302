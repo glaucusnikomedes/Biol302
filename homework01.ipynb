{
 "cells": [
  {
   "cell_type": "markdown",
   "metadata": {},
   "source": [
    "# Bio 302 Homework 1\n",
    "\n",
    "## Python Review\n",
    "\n",
    "Grab a copy from the course repository. When you're all done, upload your notebook file (as ipynb) as a gist and email me the link.\n",
    "\n",
    "Read through each of the mini-examples in each section, and make sure you understand. Some will only take a few seconds' thought to understand, some will take more. This homework is executable, so take advantage of it. Run the code, change stuff, break and fix stuff.\n",
    "\n",
    "There are ten tasks to do for this week. Most of them will follow pretty readily from the examples. There's a placeholder cell marking the location where each task should be completed. You"
   ]
  },
  {
   "cell_type": "code",
   "execution_count": 39,
   "metadata": {
    "collapsed": true
   },
   "outputs": [],
   "source": [
    "# -- some imports for this notebook, providing functionality that's not built in to python\n",
    "from __future__ import print_function, division\n",
    "# `print_function` makes it so you need to use parens with print\n",
    "# `division` makes it so division works like you'd think:\n",
    "#    without it, '8 / 3' evaluates to 2, ie integer division\n",
    "#    with it turned on, '8 / 3' evaluates to 2.6666\n",
    "import math # python's math library, has sqrt, pi, sin, cos, log, etc.\n",
    "import random"
   ]
  },
  {
   "cell_type": "markdown",
   "metadata": {},
   "source": [
    "## Printing Things\n",
    "\n",
    "The `print` command is your basic means to ask the python interpreter what it's thinking. It's essential for debugging unexpected results, and heavily used in normal program output."
   ]
  },
  {
   "cell_type": "code",
   "execution_count": 1,
   "metadata": {
    "collapsed": false
   },
   "outputs": [
    {
     "name": "stdout",
     "output_type": "stream",
     "text": [
      "144\n"
     ]
    }
   ],
   "source": [
    "print(144)"
   ]
  },
  {
   "cell_type": "code",
   "execution_count": 2,
   "metadata": {
    "collapsed": false
   },
   "outputs": [
    {
     "name": "stdout",
     "output_type": "stream",
     "text": [
      "16\n"
     ]
    }
   ],
   "source": [
    "print(3 + 4 + 9)"
   ]
  },
  {
   "cell_type": "code",
   "execution_count": 3,
   "metadata": {
    "collapsed": false
   },
   "outputs": [
    {
     "name": "stdout",
     "output_type": "stream",
     "text": [
      "-33\n"
     ]
    }
   ],
   "source": [
    "print(3 - 4 * 9)"
   ]
  },
  {
   "cell_type": "code",
   "execution_count": 4,
   "metadata": {
    "collapsed": false
   },
   "outputs": [
    {
     "name": "stdout",
     "output_type": "stream",
     "text": [
      "-9\n"
     ]
    }
   ],
   "source": [
    "print((3 - 4) * 9)"
   ]
  },
  {
   "cell_type": "code",
   "execution_count": 5,
   "metadata": {
    "collapsed": false
   },
   "outputs": [
    {
     "name": "stdout",
     "output_type": "stream",
     "text": [
      "['aard', 'vark', 'sand', 'wich']\n"
     ]
    }
   ],
   "source": [
    "print(['aard', 'vark', 'sand', 'wich'])"
   ]
  },
  {
   "cell_type": "code",
   "execution_count": 6,
   "metadata": {
    "collapsed": false
   },
   "outputs": [
    {
     "name": "stdout",
     "output_type": "stream",
     "text": [
      "Bio 302 is neat!\n"
     ]
    }
   ],
   "source": [
    "print(\"Bio 302 is neat!\")"
   ]
  },
  {
   "cell_type": "code",
   "execution_count": 7,
   "metadata": {
    "collapsed": false
   },
   "outputs": [
    {
     "name": "stdout",
     "output_type": "stream",
     "text": [
      "<class 'int'>\n"
     ]
    }
   ],
   "source": [
    "print(type(3)) # python classes data into 'types', you can ask what the type is"
   ]
  },
  {
   "cell_type": "code",
   "execution_count": 8,
   "metadata": {
    "collapsed": false
   },
   "outputs": [
    {
     "name": "stdout",
     "output_type": "stream",
     "text": [
      "<class 'float'>\n"
     ]
    }
   ],
   "source": [
    "print(type(3.0))"
   ]
  },
  {
   "cell_type": "code",
   "execution_count": 9,
   "metadata": {
    "collapsed": false,
    "scrolled": false
   },
   "outputs": [
    {
     "name": "stdout",
     "output_type": "stream",
     "text": [
      "<class 'str'>\n"
     ]
    }
   ],
   "source": [
    "print(type('3'))"
   ]
  },
  {
   "cell_type": "code",
   "execution_count": 44,
   "metadata": {
    "collapsed": false
   },
   "outputs": [
    {
     "name": "stdout",
     "output_type": "stream",
     "text": [
      "<class 'str'>\n",
      "stuff\n"
     ]
    }
   ],
   "source": [
    "print(type('3'))\n",
    "print('stuff')"
   ]
  },
  {
   "cell_type": "markdown",
   "metadata": {},
   "source": [
    "## [TASK 1]\n",
    "\n",
    "Print out the difference between the current year and the year you were born. Don't precompute the difference, write the expression and have python do the computation for you."
   ]
  },
  {
   "cell_type": "code",
   "execution_count": 1,
   "metadata": {
    "collapsed": false
   },
   "outputs": [
    {
     "name": "stdout",
     "output_type": "stream",
     "text": [
      "22\n"
     ]
    }
   ],
   "source": [
    "print (2016-1994)"
   ]
  },
  {
   "cell_type": "markdown",
   "metadata": {},
   "source": [
    "## Variables\n",
    "\n",
    "Variables allow you to work with values generically. This in turn allows you to specify a computation so that it will work for any valid input. For instance, we know we can work out the roots for a particular quadratic equation:\n",
    "\n",
    "$f(x) = 2 x ^ 2 + 5 x + 1$\n",
    "\n",
    "Namely, they're\n",
    "\n",
    "$\\frac{-5 \\pm \\sqrt{5 ^ 2 - 4 \\times 2 \\times 1}}{2 \\times 2}$\n",
    "\n",
    "But if you write this like\n",
    "\n",
    "$\\frac{-b \\pm \\sqrt{b ^ 2 - 4 a c}}{2 a}$\n",
    "\n",
    "it now works for all possible quadratic equations, including the particular case above."
   ]
  },
  {
   "cell_type": "code",
   "execution_count": 16,
   "metadata": {
    "collapsed": false
   },
   "outputs": [
    {
     "name": "stdout",
     "output_type": "stream",
     "text": [
      "The prof's name is: Dr. Mike Macpherson\n"
     ]
    }
   ],
   "source": [
    "instructor = \"Mike Macpherson\"\n",
    "formal_instructor = \"Dr. \" + instructor\n",
    "a, b, c = 2, 5, 1\n",
    "quadratic1 = (-b + math.sqrt(b * b - 4 * a * c)) / (2 * a)\n",
    "quadratic2 = (-b - math.sqrt(b * b - 4 * a * c)) / (2 * a)\n",
    "print(\"The prof's name is: %s\" % formal_instructor)"
   ]
  },
  {
   "cell_type": "code",
   "execution_count": 17,
   "metadata": {
    "collapsed": false
   },
   "outputs": [
    {
     "name": "stdout",
     "output_type": "stream",
     "text": [
      "One of the roots is: [-0.22]\n"
     ]
    }
   ],
   "source": [
    "print(\"One of the roots is: [%0.2f]\" % quadratic1)"
   ]
  },
  {
   "cell_type": "code",
   "execution_count": 18,
   "metadata": {
    "collapsed": false
   },
   "outputs": [
    {
     "name": "stdout",
     "output_type": "stream",
     "text": [
      "The other root is: [-2.28]\n"
     ]
    }
   ],
   "source": [
    "print(\"The other root is: [%0.2f]\" % quadratic2)"
   ]
  },
  {
   "cell_type": "markdown",
   "metadata": {},
   "source": [
    "## [TASK 2]\n",
    "\n",
    "Put the name of your hometown into a variable, 'hometown'. Then print out 'My hometown is: {hometown}']"
   ]
  },
  {
   "cell_type": "code",
   "execution_count": 83,
   "metadata": {
    "collapsed": false
   },
   "outputs": [
    {
     "name": "stdout",
     "output_type": "stream",
     "text": [
      "My hometown is: Chino Hills\n"
     ]
    }
   ],
   "source": [
    "hometown = \"Chino Hills\"\n",
    "print(\"My hometown is: \" + hometown)"
   ]
  },
  {
   "cell_type": "markdown",
   "metadata": {},
   "source": [
    "## Boolean Values and Logic\n",
    "\n",
    "Python knows about Boolean values, ie True and False, and can do arithmetic with them."
   ]
  },
  {
   "cell_type": "code",
   "execution_count": 26,
   "metadata": {
    "collapsed": false
   },
   "outputs": [
    {
     "name": "stdout",
     "output_type": "stream",
     "text": [
      "True False\n"
     ]
    }
   ],
   "source": [
    "print(True, False)"
   ]
  },
  {
   "cell_type": "code",
   "execution_count": 27,
   "metadata": {
    "collapsed": false
   },
   "outputs": [
    {
     "name": "stdout",
     "output_type": "stream",
     "text": [
      "True\n"
     ]
    }
   ],
   "source": [
    "print(1 == 1)"
   ]
  },
  {
   "cell_type": "code",
   "execution_count": 28,
   "metadata": {
    "collapsed": false
   },
   "outputs": [
    {
     "name": "stdout",
     "output_type": "stream",
     "text": [
      "False\n"
     ]
    }
   ],
   "source": [
    "print(\"causation\" == \"correlation\")"
   ]
  },
  {
   "cell_type": "code",
   "execution_count": 29,
   "metadata": {
    "collapsed": false
   },
   "outputs": [
    {
     "name": "stdout",
     "output_type": "stream",
     "text": [
      "False True False\n"
     ]
    }
   ],
   "source": [
    "print((True and False), (True or False), (not True))"
   ]
  },
  {
   "cell_type": "code",
   "execution_count": 30,
   "metadata": {
    "collapsed": false
   },
   "outputs": [
    {
     "name": "stdout",
     "output_type": "stream",
     "text": [
      "False True True False\n"
     ]
    }
   ],
   "source": [
    "print((1 < 1), (1 <= 1), (1 >= 1), (1 != 1))"
   ]
  },
  {
   "cell_type": "code",
   "execution_count": 31,
   "metadata": {
    "collapsed": false
   },
   "outputs": [
    {
     "name": "stdout",
     "output_type": "stream",
     "text": [
      "True\n"
     ]
    }
   ],
   "source": [
    "you_are_happy = True\n",
    "you_know_it = True\n",
    "clap_your_hands = you_are_happy and you_know_it\n",
    "print(clap_your_hands)"
   ]
  },
  {
   "cell_type": "markdown",
   "metadata": {},
   "source": [
    "## [TASK 3]\n",
    "\n",
    "Put the constant pi into a variable, out to a few digits. Put the value 11.1 into a 'radius' variable. Put the value 300.0 into a 'threshold' variable. Then, using the formula for the area of a circle, print out 'Is the area of a circle with radius {radius} meters greater than {threshold} square meters? {True/False}'"
   ]
  },
  {
   "cell_type": "code",
   "execution_count": 106,
   "metadata": {
    "collapsed": false,
    "scrolled": false
   },
   "outputs": [
    {
     "name": "stdout",
     "output_type": "stream",
     "text": [
      "Is the area of a circle with radius 11.1 meters greater than 300.0 square meters? True\n"
     ]
    }
   ],
   "source": [
    "pi = math.pi\n",
    "radius = 11.1\n",
    "threshold = 300.0\n",
    "area = pi * math.pow(radius,2)\n",
    "print(\"Is the area of a circle with radius \" + str(radius) + \" meters greater than \" \n",
    "      + str(threshold) + \" square meters? \" + str(area>threshold))"
   ]
  },
  {
   "cell_type": "markdown",
   "metadata": {},
   "source": [
    "## Branching\n",
    "\n",
    "Often, you need to make a choice during the execution of a program, so that some code is only run if a condition holds true."
   ]
  },
  {
   "cell_type": "code",
   "execution_count": 38,
   "metadata": {
    "collapsed": false
   },
   "outputs": [
    {
     "name": "stdout",
     "output_type": "stream",
     "text": [
      "That is delightful.\n"
     ]
    }
   ],
   "source": [
    "winner = \"Seahawks\"\n",
    "if winner == \"Broncos\":\n",
    "    print(\"That is sad.\")\n",
    "elif winner == \"Seahawks\":\n",
    "    print(\"That is delightful.\")\n",
    "elif winner == \"Dodgers\":\n",
    "    print(\"That is confusing.\")\n",
    "else:\n",
    "    print(\"I give up.\")"
   ]
  },
  {
   "cell_type": "markdown",
   "metadata": {},
   "source": [
    "## [TASK 4]\n",
    "\n",
    "Say that movie prices are \\$10, except for seniors 65 or over, for whom they're \\$5, and for kids twelve and under, for whom they're \\$4. Make up an age and put it into a variable 'age'. Put the value 0 (as in \\$0) into a variable 'ticket_price'. Write a branching structure that, depending on age, will end up with `ticket_price` having the correct value in it based on the above. Print `ticket_price` at the end to prove it worked."
   ]
  },
  {
   "cell_type": "code",
   "execution_count": 61,
   "metadata": {
    "collapsed": false
   },
   "outputs": [
    {
     "name": "stdout",
     "output_type": "stream",
     "text": [
      "Age: 34\n",
      "Ticket price: 10\n"
     ]
    }
   ],
   "source": [
    "age = random.randint(0,100)\n",
    "ticket_price = 0\n",
    "if age >= 65:\n",
    "    ticket_price = 5\n",
    "elif age <= 12:\n",
    "    ticket_price = 4\n",
    "else:\n",
    "    ticket_price = 10\n",
    "print(\"Age: \" + str(age))\n",
    "print(\"Ticket price: \" + str(ticket_price))"
   ]
  },
  {
   "cell_type": "markdown",
   "metadata": {},
   "source": [
    "## List Operations\n",
    "\n",
    "A list is an ordered sequence of values, good for representing collections of things."
   ]
  },
  {
   "cell_type": "code",
   "execution_count": 90,
   "metadata": {
    "collapsed": false
   },
   "outputs": [
    {
     "name": "stdout",
     "output_type": "stream",
     "text": [
      "[0, 1, 2, 3, 4, 5] range(0, 6)\n"
     ]
    }
   ],
   "source": [
    "numbers = [0,1,2,3,4,5]\n",
    "numbers_alt = range(6) # another way to do the same thing\n",
    "print(numbers, numbers_alt)"
   ]
  },
  {
   "cell_type": "code",
   "execution_count": 91,
   "metadata": {
    "collapsed": false
   },
   "outputs": [
    {
     "name": "stdout",
     "output_type": "stream",
     "text": [
      "4\n"
     ]
    }
   ],
   "source": [
    "print(numbers[4]) # access 5th element from list -- indexing starts from zero"
   ]
  },
  {
   "cell_type": "code",
   "execution_count": 92,
   "metadata": {
    "collapsed": false
   },
   "outputs": [
    {
     "name": "stdout",
     "output_type": "stream",
     "text": [
      "2\n"
     ]
    }
   ],
   "source": [
    "print(numbers[5 - 3]) # expressions are valid, but need to end up as an integer"
   ]
  },
  {
   "cell_type": "code",
   "execution_count": 93,
   "metadata": {
    "collapsed": false
   },
   "outputs": [
    {
     "name": "stdout",
     "output_type": "stream",
     "text": [
      "[0, 1, 2]\n"
     ]
    }
   ],
   "source": [
    "print(numbers[:3]) # print the first three elements using a slice"
   ]
  },
  {
   "cell_type": "code",
   "execution_count": 94,
   "metadata": {
    "collapsed": false
   },
   "outputs": [
    {
     "name": "stdout",
     "output_type": "stream",
     "text": [
      "[0, 1, 2]\n"
     ]
    }
   ],
   "source": [
    "print(numbers[:-3]) # print all but the last three elements"
   ]
  },
  {
   "cell_type": "code",
   "execution_count": 95,
   "metadata": {
    "collapsed": false
   },
   "outputs": [
    {
     "name": "stdout",
     "output_type": "stream",
     "text": [
      "[3, 4, 5]\n"
     ]
    }
   ],
   "source": [
    "print(numbers[-3:]) # print only the last three elements"
   ]
  },
  {
   "cell_type": "code",
   "execution_count": 99,
   "metadata": {
    "collapsed": false
   },
   "outputs": [
    {
     "name": "stdout",
     "output_type": "stream",
     "text": [
      "[2, 3]\n"
     ]
    }
   ],
   "source": [
    "print(numbers[2:-2]) # print interior elements. How many will it print?"
   ]
  },
  {
   "cell_type": "code",
   "execution_count": 86,
   "metadata": {
    "collapsed": false
   },
   "outputs": [
    {
     "name": "stdout",
     "output_type": "stream",
     "text": [
      "8\n"
     ]
    }
   ],
   "source": [
    "print(len(numbers)) # lists know how long they are"
   ]
  },
  {
   "cell_type": "code",
   "execution_count": 100,
   "metadata": {
    "collapsed": false
   },
   "outputs": [
    {
     "name": "stdout",
     "output_type": "stream",
     "text": [
      "[100, 90, 0, 1, 2, 3, 4, 5, -42]\n"
     ]
    }
   ],
   "source": [
    "numbers = [100, 90] + numbers # list addition\n",
    "numbers.append(-42) # another way to add to a list\n",
    "print(numbers)"
   ]
  },
  {
   "cell_type": "code",
   "execution_count": 74,
   "metadata": {
    "collapsed": false
   },
   "outputs": [
    {
     "name": "stdout",
     "output_type": "stream",
     "text": [
      "-42 100\n"
     ]
    }
   ],
   "source": [
    "print(min(numbers), max(numbers)) # python knows about extrema"
   ]
  },
  {
   "cell_type": "code",
   "execution_count": 101,
   "metadata": {
    "collapsed": false
   },
   "outputs": [
    {
     "name": "stdout",
     "output_type": "stream",
     "text": [
      "[-42, 0, 1, 2, 3, 4, 5, 90, 100]\n"
     ]
    }
   ],
   "source": [
    "numbers.sort() # sorting is built in\n",
    "print(numbers)"
   ]
  },
  {
   "cell_type": "code",
   "execution_count": 102,
   "metadata": {
    "collapsed": false
   },
   "outputs": [
    {
     "name": "stdout",
     "output_type": "stream",
     "text": [
      "[100, 90, 5, 4, 3, 2, 1, 0, -42]\n"
     ]
    }
   ],
   "source": [
    "numbers.reverse() # reversal is, too\n",
    "print(numbers)"
   ]
  },
  {
   "cell_type": "code",
   "execution_count": 103,
   "metadata": {
    "collapsed": false
   },
   "outputs": [
    {
     "name": "stdout",
     "output_type": "stream",
     "text": [
      "[100, 90, 5, 3, 2, 1, 0, -42]\n"
     ]
    }
   ],
   "source": [
    "del numbers[3] # let's drop an element (the fourth one)\n",
    "print(numbers)"
   ]
  },
  {
   "cell_type": "code",
   "execution_count": 104,
   "metadata": {
    "collapsed": false
   },
   "outputs": [
    {
     "name": "stdout",
     "output_type": "stream",
     "text": [
      "['a', 2, 'c']\n"
     ]
    }
   ],
   "source": [
    "print(['a', 2, 'c']) # no restrictions on element types"
   ]
  },
  {
   "cell_type": "code",
   "execution_count": 79,
   "metadata": {
    "collapsed": false
   },
   "outputs": [
    {
     "name": "stdout",
     "output_type": "stream",
     "text": [
      "['classes', [208, 209, 230, 302]]\n"
     ]
    }
   ],
   "source": [
    "print(['classes', [208, 209, 230, 302]]) # lists inside lists are fine too"
   ]
  },
  {
   "cell_type": "code",
   "execution_count": 80,
   "metadata": {
    "collapsed": false
   },
   "outputs": [
    {
     "name": "stdout",
     "output_type": "stream",
     "text": [
      "True\n"
     ]
    }
   ],
   "source": [
    "print(3 in numbers) # asking whether the number 3 is in this list"
   ]
  },
  {
   "cell_type": "code",
   "execution_count": 81,
   "metadata": {
    "collapsed": false
   },
   "outputs": [
    {
     "name": "stdout",
     "output_type": "stream",
     "text": [
      "False\n"
     ]
    }
   ],
   "source": [
    "print('aardvark' in numbers) # now asking whether the string 'aardvark' is"
   ]
  },
  {
   "cell_type": "markdown",
   "metadata": {},
   "source": [
    "## [TASK 5]\n",
    "\n",
    "Put a list of first ten prime numbers into a variable `primes`. Then print the portion of the list that excludes the first three elements and last three elements, i.e. the 'middle four' elements of the list."
   ]
  },
  {
   "cell_type": "code",
   "execution_count": 105,
   "metadata": {
    "collapsed": false
   },
   "outputs": [
    {
     "name": "stdout",
     "output_type": "stream",
     "text": [
      "[7, 11, 13, 17]\n"
     ]
    }
   ],
   "source": [
    "primes = [2,3,5,7,11,13,17,19,23,29]\n",
    "print(primes[3:-3])"
   ]
  },
  {
   "cell_type": "markdown",
   "metadata": {},
   "source": [
    "## String Operations\n",
    "\n",
    "Strings are used to represent text and are heavily used in bioinformatics to represent sequences."
   ]
  },
  {
   "cell_type": "code",
   "execution_count": 1,
   "metadata": {
    "collapsed": false
   },
   "outputs": [
    {
     "name": "stdout",
     "output_type": "stream",
     "text": [
      "Chapman University Cougars\n"
     ]
    }
   ],
   "source": [
    "team = 'Chapman University Cougars'\n",
    "print(team)"
   ]
  },
  {
   "cell_type": "code",
   "execution_count": 2,
   "metadata": {
    "collapsed": false
   },
   "outputs": [
    {
     "name": "stdout",
     "output_type": "stream",
     "text": [
      "University\n"
     ]
    }
   ],
   "source": [
    "print(team[8:18]) # taking a slice"
   ]
  },
  {
   "cell_type": "code",
   "execution_count": 3,
   "metadata": {
    "collapsed": false
   },
   "outputs": [
    {
     "name": "stdout",
     "output_type": "stream",
     "text": [
      "26\n"
     ]
    }
   ],
   "source": [
    "print(len(team)) # strings know how long they are too"
   ]
  },
  {
   "cell_type": "code",
   "execution_count": 4,
   "metadata": {
    "collapsed": false
   },
   "outputs": [
    {
     "name": "stdout",
     "output_type": "stream",
     "text": [
      "True\n"
     ]
    }
   ],
   "source": [
    "print('Uni' in team) # ask whether a substring is in there"
   ]
  },
  {
   "cell_type": "code",
   "execution_count": 5,
   "metadata": {
    "collapsed": false
   },
   "outputs": [
    {
     "name": "stdout",
     "output_type": "stream",
     "text": [
      "Chapman University Cougars of Historic Orange, CA\n"
     ]
    }
   ],
   "source": [
    "venue = ' of Historic Orange, CA'\n",
    "combined = team + venue # easy to concatenate strings\n",
    "print(combined)"
   ]
  },
  {
   "cell_type": "code",
   "execution_count": 6,
   "metadata": {
    "collapsed": false,
    "scrolled": true
   },
   "outputs": [
    {
     "ename": "TypeError",
     "evalue": "'str' object does not support item assignment",
     "output_type": "error",
     "traceback": [
      "\u001b[1;31m---------------------------------------------------------------------------\u001b[0m",
      "\u001b[1;31mTypeError\u001b[0m                                 Traceback (most recent call last)",
      "\u001b[1;32m<ipython-input-6-e4217f9f37ba>\u001b[0m in \u001b[0;36m<module>\u001b[1;34m()\u001b[0m\n\u001b[0;32m      1\u001b[0m \u001b[1;31m# this is not legal, strings are immutable (meaning you can't change them once created)\u001b[0m\u001b[1;33m\u001b[0m\u001b[1;33m\u001b[0m\u001b[0m\n\u001b[0;32m      2\u001b[0m \u001b[1;31m# so it will cause an error\u001b[0m\u001b[1;33m\u001b[0m\u001b[1;33m\u001b[0m\u001b[0m\n\u001b[1;32m----> 3\u001b[1;33m \u001b[0mteam\u001b[0m\u001b[1;33m[\u001b[0m\u001b[1;36m19\u001b[0m\u001b[1;33m:\u001b[0m\u001b[1;36m27\u001b[0m\u001b[1;33m]\u001b[0m \u001b[1;33m=\u001b[0m \u001b[1;34m\"Panthers\"\u001b[0m\u001b[1;33m\u001b[0m\u001b[0m\n\u001b[0m",
      "\u001b[1;31mTypeError\u001b[0m: 'str' object does not support item assignment"
     ]
    }
   ],
   "source": [
    "# this is not legal, strings are immutable (meaning you can't change them once created)\n",
    "# so it will cause an error\n",
    "team[19:27] = \"Panthers\""
   ]
  },
  {
   "cell_type": "code",
   "execution_count": 7,
   "metadata": {
    "collapsed": false
   },
   "outputs": [
    {
     "name": "stdout",
     "output_type": "stream",
     "text": [
      "True\n"
     ]
    }
   ],
   "source": [
    "# python has an extensive string library, here's a glimpse\n",
    "print(team.startswith('Chapman'))"
   ]
  },
  {
   "cell_type": "code",
   "execution_count": 8,
   "metadata": {
    "collapsed": false
   },
   "outputs": [
    {
     "name": "stdout",
     "output_type": "stream",
     "text": [
      "CHAPMAN UNIVERSITY COUGARS\n"
     ]
    }
   ],
   "source": [
    "print(team.upper()) # Shouting!"
   ]
  },
  {
   "cell_type": "code",
   "execution_count": 9,
   "metadata": {
    "collapsed": false
   },
   "outputs": [
    {
     "name": "stdout",
     "output_type": "stream",
     "text": [
      "2\n"
     ]
    }
   ],
   "source": [
    "print(team.count('i')) # okay, there are a couple i's in /this/ team"
   ]
  },
  {
   "cell_type": "code",
   "execution_count": 10,
   "metadata": {
    "collapsed": false
   },
   "outputs": [
    {
     "name": "stdout",
     "output_type": "stream",
     "text": [
      "String Surgery Method 1: Chapman University Panthers\n"
     ]
    }
   ],
   "source": [
    "# method 1 to fix our mistake\n",
    "team_fixed1 = team.replace('Cougars', 'Panthers') # returns a new string\n",
    "print('String Surgery Method 1:', team_fixed1)"
   ]
  },
  {
   "cell_type": "code",
   "execution_count": 11,
   "metadata": {
    "collapsed": false
   },
   "outputs": [
    {
     "name": "stdout",
     "output_type": "stream",
     "text": [
      "String Surgery Method 2: Chapman University Panthers\n"
     ]
    }
   ],
   "source": [
    "# method 2 to fix our mistake\n",
    "team_pieces = team.split(' ') # break string into a list on space characters\n",
    "team_pieces[-1] = 'Panthers' # unlike strings, lists are mutable, so this works\n",
    "team_fixed2 = ' '.join(team_pieces) # join() is the inverse of split()\n",
    "print('String Surgery Method 2:', team_fixed2)"
   ]
  },
  {
   "cell_type": "markdown",
   "metadata": {},
   "source": [
    "## [TASK 6]\n",
    "\n",
    "Go on the web and grab the first sentence of the Gettysburg Address. Put it into a variable called 'lincoln'. Produce a new string 'lincoln_compact', that is identical to 'lincoln' except that it contains no spaces or punctuation, and all uppercase letters have been converted to lowercase. It will not be very readable...\n",
    "\n",
    "In a comment, please cite the url from which you got the text."
   ]
  },
  {
   "cell_type": "code",
   "execution_count": 18,
   "metadata": {
    "collapsed": false,
    "scrolled": true
   },
   "outputs": [
    {
     "name": "stdout",
     "output_type": "stream",
     "text": [
      "fourscoreandsevenyearsagoourfathersbroughtforthonthiscontinentanewnationconceivedinlibertyanddedicatedtothepropositionthatallmenarecreatedequal\n"
     ]
    }
   ],
   "source": [
    "# Gettysburg Address found at: http://www.abrahamlincolnonline.org/lincoln/speeches/gettysburg.htm\n",
    "lincoln = \"Four score and seven years ago our fathers brought forth on this continent, a new nation, conceived in Liberty, and dedicated to the proposition that all men are created equal.\"\n",
    "lincoln_compact = lincoln.replace(' ', '')\n",
    "lincoln_compact = lincoln_compact.replace(',','')\n",
    "lincoln_compact = lincoln_compact.replace('.','')\n",
    "lincoln_compact = lincoln_compact.lower()\n",
    "print(lincoln_compact)"
   ]
  },
  {
   "cell_type": "markdown",
   "metadata": {},
   "source": [
    "## Dictionaries\n",
    "\n",
    "Dictionaries are also great for holding collections, and they're accessed by key rather than numerical index"
   ]
  },
  {
   "cell_type": "code",
   "execution_count": 19,
   "metadata": {
    "collapsed": false
   },
   "outputs": [
    {
     "name": "stdout",
     "output_type": "stream",
     "text": [
      "{'father': 'Rufus', 'mother': 'Pamla'}\n"
     ]
    }
   ],
   "source": [
    "my_parents = dict(mother='Pamla', father='Rufus') # easy, right?\n",
    "print(my_parents)"
   ]
  },
  {
   "cell_type": "code",
   "execution_count": 20,
   "metadata": {
    "collapsed": false
   },
   "outputs": [
    {
     "name": "stdout",
     "output_type": "stream",
     "text": [
      "Rufus\n"
     ]
    }
   ],
   "source": [
    "print(my_parents['father']) # accessing value by key"
   ]
  },
  {
   "cell_type": "code",
   "execution_count": 21,
   "metadata": {
    "collapsed": false
   },
   "outputs": [
    {
     "name": "stdout",
     "output_type": "stream",
     "text": [
      "{'father': 'Rufus', 'mother': 'Pamela'}\n"
     ]
    }
   ],
   "source": [
    "my_parents['mother'] = 'Pamela' # whoops, let's fix that\n",
    "print(my_parents)"
   ]
  },
  {
   "cell_type": "code",
   "execution_count": 22,
   "metadata": {
    "collapsed": false
   },
   "outputs": [
    {
     "name": "stdout",
     "output_type": "stream",
     "text": [
      "True\n"
     ]
    }
   ],
   "source": [
    "print('mother' in my_parents) # dicts use the same membership test syntax"
   ]
  },
  {
   "cell_type": "code",
   "execution_count": 23,
   "metadata": {
    "collapsed": false
   },
   "outputs": [
    {
     "name": "stdout",
     "output_type": "stream",
     "text": [
      "False\n"
     ]
    }
   ],
   "source": [
    "print('dolphin' in my_parents)"
   ]
  },
  {
   "cell_type": "code",
   "execution_count": 24,
   "metadata": {
    "collapsed": false
   },
   "outputs": [
    {
     "name": "stdout",
     "output_type": "stream",
     "text": [
      "{'father': 'Rufus', 'mother': 'Pamela'} {'father': 'Rufus', 'mother': 'Pamela'}\n"
     ]
    }
   ],
   "source": [
    "# another way to define a dict\n",
    "my_parents_alt = {'mother':'Pamela', 'father':'Rufus'}\n",
    "print(my_parents, my_parents_alt)"
   ]
  },
  {
   "cell_type": "code",
   "execution_count": 25,
   "metadata": {
    "collapsed": false
   },
   "outputs": [
    {
     "name": "stdout",
     "output_type": "stream",
     "text": [
      "{'brothers': ['Jesse']}\n"
     ]
    }
   ],
   "source": [
    "# manipulating dictionaries\n",
    "my_siblings = dict(brothers=['Jesse'])\n",
    "print(my_siblings)"
   ]
  },
  {
   "cell_type": "code",
   "execution_count": 26,
   "metadata": {
    "collapsed": false
   },
   "outputs": [
    {
     "name": "stdout",
     "output_type": "stream",
     "text": [
      "{'brothers': ['Jesse'], 'sisters': ['Jenny']}\n"
     ]
    }
   ],
   "source": [
    "my_siblings['sisters'] = ['Jenny'] # welcome to the family\n",
    "print(my_siblings)"
   ]
  },
  {
   "cell_type": "code",
   "execution_count": 27,
   "metadata": {
    "collapsed": false
   },
   "outputs": [
    {
     "name": "stdout",
     "output_type": "stream",
     "text": [
      "{'brothers': ['Jesse', 'Joe'], 'sisters': ['Jenny']}\n"
     ]
    }
   ],
   "source": [
    "my_siblings['brothers'].append('Joe') # let's use append again\n",
    "print(my_siblings)"
   ]
  },
  {
   "cell_type": "code",
   "execution_count": 28,
   "metadata": {
    "collapsed": false
   },
   "outputs": [
    {
     "name": "stdout",
     "output_type": "stream",
     "text": [
      "{'sisters': ['Jenny']}\n"
     ]
    }
   ],
   "source": [
    "del my_siblings['brothers'] # we've had a disagreement...\n",
    "print(my_siblings)"
   ]
  },
  {
   "cell_type": "markdown",
   "metadata": {},
   "source": [
    "## [TASK 7]\n",
    "\n",
    "Put a dictionary mapping five of your favorite US states onto their capitals into a variable called `states`. Print the (entire) dictionary. Now add your least favorite state and capital to the dictionary. Print the name of that state's capital by accessing the dictionary. Now relieve yourself by deleting the offending state. Finally, use a membership test to ask whether your least favorite state is in the dictionary; print the result (result will be either True or False). Hopefully False, right?]"
   ]
  },
  {
   "cell_type": "code",
   "execution_count": 3,
   "metadata": {
    "collapsed": false,
    "scrolled": true
   },
   "outputs": [
    {
     "name": "stdout",
     "output_type": "stream",
     "text": [
      "{'CA': 'Sacramento', 'OR': 'Salem', 'NM': 'Albuquerque', 'FL': 'Tallahassee', 'ID': 'Boise'}\n",
      "['Albany']\n",
      "False\n"
     ]
    }
   ],
   "source": [
    "states = {'CA':'Sacramento','FL':'Tallahassee','ID':'Boise','OR':'Salem','NM':'Albuquerque'}\n",
    "print(states)\n",
    "states['NY'] = ['Albany']\n",
    "print(states['NY'])\n",
    "del states['NY']\n",
    "print('NY' in states)"
   ]
  },
  {
   "cell_type": "markdown",
   "metadata": {},
   "source": [
    "## Functions\n",
    "\n",
    "Functions are very useful in making your code shorter, less redundant, more readable."
   ]
  },
  {
   "cell_type": "code",
   "execution_count": 4,
   "metadata": {
    "collapsed": false
   },
   "outputs": [
    {
     "name": "stdout",
     "output_type": "stream",
     "text": [
      "10\n"
     ]
    }
   ],
   "source": [
    "def how_many_letters(string):\n",
    "    return len(string)\n",
    "print(how_many_letters('Macpherson'))"
   ]
  },
  {
   "cell_type": "code",
   "execution_count": 5,
   "metadata": {
    "collapsed": false
   },
   "outputs": [
    {
     "name": "stdout",
     "output_type": "stream",
     "text": [
      "10\n"
     ]
    }
   ],
   "source": [
    "print(how_many_letters('chimpanzee')) # coincidence?"
   ]
  },
  {
   "cell_type": "code",
   "execution_count": 6,
   "metadata": {
    "collapsed": false
   },
   "outputs": [
    {
     "name": "stdout",
     "output_type": "stream",
     "text": [
      "36\n"
     ]
    }
   ],
   "source": [
    "# multiple arguments, no prob\n",
    "def add(value1, value2):\n",
    "    return value1 + value2\n",
    "print(add(12, 24))"
   ]
  },
  {
   "cell_type": "code",
   "execution_count": 7,
   "metadata": {
    "collapsed": false
   },
   "outputs": [
    {
     "name": "stdout",
     "output_type": "stream",
     "text": [
      "24\n"
     ]
    }
   ],
   "source": [
    "# functions can refer to one another, no prob\n",
    "def how_many_letters_total_in_three_words(word1, word2, word3):\n",
    "    len1 = how_many_letters(word1)\n",
    "    len2 = how_many_letters(word2)\n",
    "    len3 = how_many_letters(word3)\n",
    "    return add(add(len1, len2), len3)\n",
    "    # another way to do that would be:\n",
    "    # temp = add(len1, len2)\n",
    "    # return add(temp, len3) # see? no big deal\n",
    "print(how_many_letters_total_in_three_words('Twitter', 'Facebook', 'Instagram'))"
   ]
  },
  {
   "cell_type": "markdown",
   "metadata": {},
   "source": [
    "## [TASK 8]\n",
    "\n",
    "Write a function called 'bite' that takes a string and an integer as its two arguments. It should return as many characters in the string as in the second argument, ignoring space characters.\n",
    "\n",
    "Examples:\n",
    "\n",
    "```\n",
    "bite('Bioinformatics', 3) -> 'Bio'\n",
    "bite('   Bioinformatics', 3) -> 'Bio'\n",
    "bite('He attempted to climb.', 4) -> 'Heat'\n",
    "```"
   ]
  },
  {
   "cell_type": "code",
   "execution_count": 18,
   "metadata": {
    "collapsed": false,
    "scrolled": true
   },
   "outputs": [
    {
     "name": "stdout",
     "output_type": "stream",
     "text": [
      "Bio\n",
      "Bio\n",
      "Heat\n"
     ]
    }
   ],
   "source": [
<<<<<<< HEAD
    "def bite(str string, int integer):\n",
=======
    "def bite(string, integer):\n",
>>>>>>> bd3bfe0aac101cd819439dc6f97f4487ee381fea
    "    temp = string.replace(' ','')\n",
    "    return(temp[:integer])\n",
    "print(bite('Bioinformatics',3))\n",
    "print(bite('   Bioinformatics', 3))\n",
    "print(bite('He attempted to climb.', 4))"
   ]
  },
  {
   "cell_type": "markdown",
   "metadata": {},
   "source": [
    "## Iteration\n",
    "\n",
    "When thinking of those list, string, and dict types, often you want to do something to each item in a group. It's easy!"
   ]
  },
  {
   "cell_type": "code",
   "execution_count": 19,
   "metadata": {
    "collapsed": false
   },
   "outputs": [
    {
     "name": "stdout",
     "output_type": "stream",
     "text": [
      "My team, the Seahawks, are so good!\n",
      "My team, the Mariners, are so good!\n",
      "My team, the Huskies, are so good!\n"
     ]
    }
   ],
   "source": [
    "my_teams = ['Seahawks', 'Mariners', 'Huskies']\n",
    "for team in my_teams:\n",
    "    print('My team, the %s, are so good!' % team)"
   ]
  },
  {
   "cell_type": "code",
   "execution_count": 20,
   "metadata": {
    "collapsed": false
   },
   "outputs": [
    {
     "name": "stdout",
     "output_type": "stream",
     "text": [
      "Mean Weight (n=6): 149.05\n"
     ]
    }
   ],
   "source": [
    "# -- accumulating a result is a fairly common pattern\n",
    "weights = [130.0, 155.9, 142.3, 182.0, 121.3, 162.8]\n",
    "total = 0.0\n",
    "for weight in weights:\n",
    "    total = total + weight\n",
    "    mean_weight = total / len(weights)\n",
    "print('Mean Weight (n=%d): %0.2f' % (len(weights), mean_weight))\n",
    "\n",
    "# note that python has a sum() function, though: so sum(weights) / len(weights) woulda been shorter"
   ]
  },
  {
   "cell_type": "markdown",
   "metadata": {},
   "source": [
    "## [TASK 9]\n",
    "\n",
    "Make a list with the first ten squares, i.e. [1, 4, .. 100], and put it in a variable `squares`. Initialize an accumulator variable `total` to zero. Loop over the values in `squares`, adding the value to `total` when the value is odd, and adding the negative of the value to `total` when the value is even. Print `total` at the end.\n",
    "\n",
    "For example, if we were doing this for the first five squares, we'd effectively get:  total = 1 - 4 + 9 - 16 + 25  When we print `total`, it should thus be 15."
   ]
  },
  {
   "cell_type": "code",
   "execution_count": 23,
   "metadata": {
    "collapsed": false
   },
   "outputs": [
    {
     "name": "stdout",
     "output_type": "stream",
     "text": [
      "-55\n"
     ]
    }
   ],
   "source": [
    "squares = [1,4,9,16,25,36,49,64,81,100]\n",
    "total = 0\n",
    "for square in squares:\n",
    "    if((square/2) > square//2):\n",
    "        total += square\n",
    "    else:\n",
    "        total -= square\n",
    "print(total)"
   ]
  },
  {
   "cell_type": "markdown",
   "metadata": {},
   "source": [
    "## A Little Bioinformatics!"
   ]
  },
  {
   "cell_type": "markdown",
   "metadata": {},
   "source": [
    "## [TASK 10] \n",
    "\n",
    "Write a function 'annealing_temp' that computes the annealing temperature of a PCR primer. The annealing temperature is the melting temperature, minus 5 degrees celsius. The melting temperature, T_m, is given by:\n",
    "\n",
    "$T_m = 2°C (A+T) + 4°C (G+C)$\n",
    "\n",
    "(This is from page 47 of the Bio 208L lab manual, if you'd like to double-check.) For example, suppose we were considering the length-20 primer 'GGCTGAAGACCTAACCGTTC'. It has 9 nucleotides that are A or T, and 11 nucleotides that are G or C. Two times nine is eighteen, four times eleven is forty-four, and their sum is sixty-two, so the melting temperature is 62°C and the annealing temperature is 57°C.\n",
    "\n",
    "When you're done, your function should be able to do this:\n",
    "\n",
    "```\n",
    "In [1]: proposed_primer = 'GGCTGAAGACCTAACCGTTC'\n",
    "In [2]: print(\"The annealing temperature of primer [%s] is [%d°C].\" % (proposed_primer, annealing_temp(proposed_primer))\n",
    "The annealing temperature of primer [GGCTGAAGACCTAACCGTTC] is [57°C].\n",
    "```\n",
    "\n",
    "When you define your function 'annealing_temp', please also define a function 'melting_temp', that you'll call from within 'annealing_temp'."
   ]
  },
  {
   "cell_type": "code",
   "execution_count": 30,
   "metadata": {
    "collapsed": false,
    "scrolled": true
   },
   "outputs": [
    {
     "name": "stdout",
     "output_type": "stream",
     "text": [
      "The annealing temperature of primer [GGCTGAAGACCTAACCGTTC] is [57°C].\n"
     ]
    }
   ],
   "source": [
    "def melting_temp(primer):\n",
    "    temp = primer.lower()\n",
    "    at = temp.count('a') + temp.count('t')\n",
    "    gc = temp.count('g') + temp.count('c')\n",
    "    return(2*at + 4*gc)\n",
    "def annealing_temp(primer):\n",
    "    return(melting_temp(primer) - 5)\n",
    "proposed_primer = 'GGCTGAAGACCTAACCGTTC'\n",
    "print(\"The annealing temperature of primer [%s] is [%d°C].\" % (proposed_primer, annealing_temp(proposed_primer)))"
   ]
  }
 ],
 "metadata": {
  "kernelspec": {
   "display_name": "Python 3",
   "language": "python",
   "name": "python3"
  },
  "language_info": {
   "codemirror_mode": {
    "name": "ipython",
    "version": 3
   },
   "file_extension": ".py",
   "mimetype": "text/x-python",
   "name": "python",
   "nbconvert_exporter": "python",
   "pygments_lexer": "ipython3",
   "version": "3.5.1"
  }
 },
 "nbformat": 4,
 "nbformat_minor": 0
}
