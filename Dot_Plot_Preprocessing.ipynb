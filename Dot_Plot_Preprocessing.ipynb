{
 "cells": [
  {
   "cell_type": "code",
   "execution_count": 4,
   "metadata": {
    "collapsed": true
   },
   "outputs": [],
   "source": [
    "# -- Some standard imports for the plotting package matplotlib,\n",
    "#    and some setup. You'll want to leave these as is.\n",
    "import matplotlib.pyplot as plt\n",
    "%matplotlib inline\n",
    "plt.rcParams['figure.figsize'] = [12.0, 8.0]"
   ]
  },
  {
   "cell_type": "code",
   "execution_count": 8,
   "metadata": {
    "collapsed": true
   },
   "outputs": [],
   "source": [
    "def read_fasta_file(filename):\n",
    "    contents = open(filename).read()\n",
    "    out = []\n",
    "    for seqrec in contents.split('>'):\n",
    "        if not seqrec:\n",
    "            continue\n",
    "        lines = seqrec.split('\\n')\n",
    "        header = lines[0]\n",
    "        seq = ''.join(lines[1:])\n",
    "        out.append(dict(header=header, sequence=seq))\n",
    "    return out\n",
    "def print_gc_contents(fname):\n",
    "    contents = read_fasta_file(fname)\n",
    "    for seq in contents:\n",
    "        header = seq['header'].split(',')\n",
    "        gc_count = seq['sequence'].count('G') + seq['sequence'].count('C')\n",
    "        total = gc_count + seq['sequence'].count('A') + seq['sequence'].count('T')\n",
    "        print(header[0] + ' ' + str(gc_count / total))"
   ]
  },
  {
   "cell_type": "code",
   "execution_count": 14,
   "metadata": {
    "collapsed": false
   },
   "outputs": [
    {
     "data": {
      "text/plain": [
       "{'ACA': [5, 12, 19, 26],\n",
       " 'AGA': [7, 14, 21],\n",
       " 'ATT': [2, 9, 16, 23],\n",
       " 'CAG': [6, 13, 20],\n",
       " 'GAT': [1, 8, 15, 22],\n",
       " 'TAC': [4, 11, 18, 25],\n",
       " 'TTA': [3, 10, 17, 24]}"
      ]
     },
     "execution_count": 14,
     "metadata": {},
     "output_type": "execute_result"
    }
   ],
   "source": [
    "def index_sequence(seq, radius):\n",
    "    # Build an index of the locations of all subseqs of `seq` with given radius.\n",
    "    index = {}\n",
    "    for ix in range(radius, len(seq) - radius):\n",
    "        subseq = seq[ix - radius:ix + radius + 1]\n",
    "        if subseq in index:\n",
    "            index[subseq].append(ix)\n",
    "        else:\n",
    "            index[subseq] = [ix]\n",
    "    return index\n",
    "\n",
    "test_seq = 'GATTACA' * 4\n",
    "index_sequence(test_seq, 1)"
   ]
  },
  {
   "cell_type": "code",
   "execution_count": 10,
   "metadata": {
    "collapsed": true
   },
   "outputs": [],
   "source": [
    "def window(sequence, index, radius):\n",
    "    window = sequence[(index-radius):(index+radius+1)]\n",
    "    return window\n",
    "\n",
    "def dot_plot(fasta_file1,fasta_file2,window_radius):\n",
    "    fasta1 = read_fasta_file(fasta_file1)\n",
    "    fasta2 = read_fasta_file(fasta_file2)\n",
    "    xlab = fasta1[0]['header'][:30]\n",
    "    ylab = fasta2[0]['header'][:30]\n",
    "    seq1 = fasta1[0]['sequence']\n",
    "    seq2 = fasta2[0]['sequence']\n",
    "    points = []\n",
    "    for i in range(len(seq1)):\n",
    "        for j in range(len(seq2)):\n",
    "            if window(seq1, i, 3) == window(seq2, j, 3):\n",
    "                points.append((i, j))\n",
    "    plt.scatter(*zip(*points), s=1, color='0', lw = 0)\n",
    "    axlimit = max(max(points)[0]+100,max(points)[1]+100)\n",
    "    plt.axis([0,axlimit,0,axlimit])\n",
    "    plt.xlabel(xlab, fontsize=14)\n",
    "    plt.ylabel(ylab, fontsize=14)\n",
    "    plt.show()\n"
   ]
  },
  {
   "cell_type": "code",
   "execution_count": 11,
   "metadata": {
    "collapsed": false
   },
   "outputs": [
    {
     "data": {
      "image/png": "[encoded data removed]",
      "text/plain": [
       "<matplotlib.figure.Figure at 0x182fff102e8>"
      ]
     },
     "metadata": {},
     "output_type": "display_data"
    }
   ],
   "source": [
    "dot_plot('gapc1.fasta','gapc2.fasta',3)"
   ]
  },
  {
   "cell_type": "markdown",
   "metadata": {},
   "source": [
    "Write a function candidate_alignments(seq1, seq2) that produces a list of all possible gapped alignments between input sequences seq1 and seq2.\n",
    "\n",
    "Write a function optimal_alignment(seq1, seq1, score, gap) that returns all highest-scoring alignment(s) of seq1 and seq2 using dynamic programming, subject to the scoring scheme score and gap penalty gap."
   ]
  },
  {
   "cell_type": "code",
   "execution_count": 17,
   "metadata": {
    "collapsed": false
   },
   "outputs": [],
   "source": [
    "# Produces a list of all possible gapped alignments\n",
    "\n",
    "def candidate_alignments(seq1, seq2):\n",
    "    \n",
    "    return []\n",
    "\n",
    "\n",
    "\n",
    "['G,A','A-,-G','-A,G-']\n",
    "['GA,AG','-GA,AG-','G-A,AG-','-GA,A-G','G-A,-GA',]"
   ]
  },
  {
   "cell_type": "code",
   "execution_count": 18,
   "metadata": {
    "collapsed": false
   },
   "outputs": [
    {
     "ename": "SyntaxError",
     "evalue": "invalid syntax (<ipython-input-18-ad64fd3d9c0c>, line 1)",
     "output_type": "error",
     "traceback": [
      "\u001b[1;36m  File \u001b[1;32m\"<ipython-input-18-ad64fd3d9c0c>\"\u001b[1;36m, line \u001b[1;32m1\u001b[0m\n\u001b[1;33m    Algorithm: align (s1, s2)\u001b[0m\n\u001b[1;37m             ^\u001b[0m\n\u001b[1;31mSyntaxError\u001b[0m\u001b[1;31m:\u001b[0m invalid syntax\n"
     ]
    }
   ],
   "source": [
    "Algorithm: align (s1, s2)\n",
    "Input: string s1 of length m, string s2 of length n\n",
    "\n",
    "1.    Initialize matrix D properly;\n",
    "\n",
    "      # Build the matrix D row by row.\n",
    "2.    for i=1 to m\n",
    "3.      for j=1 to n\n",
    "\n",
    "          # Initialize max to the first of the three terms (NORTH).\n",
    "4.        max = D[i-1][j] + gapScore2 (s2[j-1])\n",
    "\n",
    "          # See if the second term is larger (WEST).\n",
    "5.        if max < D[i][j-1] + gapScore1 (s1[i-1]) \n",
    "6.          max = D[i][j-1] + gapScore1 (s2[i-1]) \n",
    "7.        endif\n",
    "\n",
    "          # See if the third term is the largest (NORTHWEST).\n",
    "8.        if max < D[i-1][j-1] + matchScore (s1[i-1], s2[j-1])\n",
    "9.          max = D[i-1][j-1] + matchScore (s1[i-1], s2[j-1])\n",
    "10.       endif\n",
    "\n",
    "11.        D[i][j] = max\n",
    "\n",
    "12.     endfor\n",
    "13.   endfor\n",
    "\n",
    "      # Return the optimal value in bottom-right corner.\n",
    "14.   return D[m][n]\n",
    "\n",
    "Output: value of optimal alignment"
   ]
  },
  {
   "cell_type": "code",
   "execution_count": 22,
   "metadata": {
    "collapsed": false
   },
   "outputs": [],
   "source": [
    "import numpy as np\n",
    "\n",
    "def read_scoring_matrix(file_scoring_matrix):\n",
    "    file = open(file_scoring_matrix).read()\n",
    "    header = file[:str.find(file,'\\n')].split(',')\n",
    "    length = len(header)\n",
    "    file = file[str.find(file,'\\n')+1:]\n",
    "    arr = np.zeros((length,length))\n",
    "    indices = np.tril_indices(length)\n",
    "    arr[indices] = file.strip().replace(',',' ').split()\n",
    "    return list(header, arr + arr.T - np.diag(arr.diagonal()))\n",
    "\n",
    "def optimal_alignment(seq1, seq2, score, gap):\n",
    "    arr = np.zeros(len(seq1),len(seq2))\n",
    "    \n",
    "    return arr"
   ]
  },
  {
   "cell_type": "code",
   "execution_count": null,
   "metadata": {
    "collapsed": true
   },
   "outputs": [],
   "source": []
  }
 ],
 "metadata": {
  "kernelspec": {
   "display_name": "Python 3",
   "language": "python",
   "name": "python3"
  },
  "language_info": {
   "codemirror_mode": {
    "name": "ipython",
    "version": 3
   },
   "file_extension": ".py",
   "mimetype": "text/x-python",
   "name": "python",
   "nbconvert_exporter": "python",
   "pygments_lexer": "ipython3",
   "version": "3.5.1"
  }
 },
 "nbformat": 4,
 "nbformat_minor": 0
}
