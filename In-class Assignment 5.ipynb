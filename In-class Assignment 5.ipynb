{
 "cells": [
  {
   "cell_type": "code",
   "execution_count": 3,
   "metadata": {
    "collapsed": false
   },
   "outputs": [
    {
     "name": "stdout",
     "output_type": "stream",
     "text": [
      "DY\n",
      "DY*\n"
     ]
    }
   ],
   "source": [
    "genetic_code = {'GAA': 'E', 'AGA': 'R', 'AAA': 'K', 'CCC': 'P',\n",
    "                'CAT': 'H', 'ACA': 'T', 'GTC': 'V', 'AGG': 'R',\n",
    "                'ATC': 'I', 'GTA': 'V', 'AAC': 'N', 'GAC': 'D',\n",
    "                'CCA': 'P', 'TTA': 'L', 'CAA': 'Q', 'CCT': 'P',\n",
    "                'GTT': 'V', 'TCC': 'S', 'ACC': 'T', 'TGC': 'C',\n",
    "                'CGA': 'R', 'ATG': 'M', 'GCC': 'A', 'CAG': 'Q',\n",
    "                'CTT': 'L', 'TAG': '*', 'TCA': 'S', 'GCT': 'A',\n",
    "                'CCG': 'P', 'AAG': 'K', 'CGT': 'R', 'GGA': 'G',\n",
    "                'TGG': 'W', 'GGT': 'G', 'TGT': 'C', 'TTC': 'F',\n",
    "                'CTC': 'L', 'CAC': 'H', 'TTG': 'L', 'ATA': 'I',\n",
    "                'AGT': 'S', 'CTG': 'L', 'GCA': 'A', 'TCG': 'S',\n",
    "                'GCG': 'A', 'TAA': '*', 'GAT': 'D', 'AAT': 'N',\n",
    "                'GGG': 'G', 'ATT': 'I', 'AGC': 'S', 'TTT': 'F',\n",
    "                'TCT': 'S', 'ACG': 'T', 'TAC': 'Y', 'TGA': '*',\n",
    "                'ACT': 'T', 'TAT': 'Y', 'CGG': 'R', 'CGC': 'R',\n",
    "                'CTA': 'L', 'GGC': 'G', 'GTG': 'V', 'GAG': 'E'}\n",
    "\n",
    "def chunk(xs, k):\n",
    "    return [] if (len(xs) < k) else [xs[:k]] + chunk(xs[k:], k)\n",
    "\n",
    "def translate(dnaseq):\n",
    "    aas = []\n",
    "    for codon in chunk(dnaseq.upper(), 3):\n",
    "        aa = genetic_code[codon]\n",
    "        aas.append(aa)\n",
    "        if aa == '*':\n",
    "            break\n",
    "    return ''.join(aas)\n",
    "\n",
    "print(translate('gattaca'))\n",
    "print(translate('gattactgaaaa'))"
   ]
  },
  {
   "cell_type": "code",
   "execution_count": 6,
   "metadata": {
    "collapsed": false
   },
   "outputs": [],
   "source": [
    "def rev_comp(dnaseq):\n",
    "    rc_map = {'A':'T', 'T':'A', 'C':'G', 'G':'C'}\n",
    "    rev_comp = ''\n",
    "    for char in dnaseq[::-1].upper():\n",
    "        rev_comp += rc_map[char]\n",
    "    return rev_comp"
   ]
  },
  {
   "cell_type": "code",
   "execution_count": 7,
   "metadata": {
    "collapsed": false
   },
   "outputs": [
    {
     "name": "stdout",
     "output_type": "stream",
     "text": [
      "['DY', 'CN', 'IT', 'CN', 'L', 'C']\n",
      "['DY*', 'FSVI', 'ITE', 'FSV', 'LLK', 'FSV']\n"
     ]
    }
   ],
   "source": [
    "def all_six(dna_seq):\n",
    "    proteins = []\n",
    "    for i in range(3):\n",
    "        proteins.append(translate(dna_seq[i:]))\n",
    "        proteins.append(translate(rev_comp(dna_seq[i:])))\n",
    "    return proteins\n",
    "print(all_six('gattaca'))\n",
    "print(all_six('gattactgaaaa'))"
   ]
  }
 ],
 "metadata": {
  "kernelspec": {
   "display_name": "Python 3",
   "language": "python",
   "name": "python3"
  },
  "language_info": {
   "codemirror_mode": {
    "name": "ipython",
    "version": 3
   },
   "file_extension": ".py",
   "mimetype": "text/x-python",
   "name": "python",
   "nbconvert_exporter": "python",
   "pygments_lexer": "ipython3",
   "version": "3.5.1"
  }
 },
 "nbformat": 4,
 "nbformat_minor": 0
}
