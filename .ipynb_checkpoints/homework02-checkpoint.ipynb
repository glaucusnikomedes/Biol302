{
 "cells": [
  {
   "cell_type": "markdown",
   "metadata": {},
   "source": [
    "# Bio 302 Homework 2\n",
    "\n",
    "There are two parts to this homework, some python work and some problems from the textbook.\n",
    "\n",
    "**Part 1: Python**\n",
    "\n",
    "Complete the four intertwined python problems in this notebook. Please solve them in the indicated space, and ensure that your solutions pass all supplied tests.\n",
    "\n",
    "**Part 2: Textbook**\n",
    "\n",
    "Read/skim Chapter 1. Read Chapter 2.\n",
    "\n",
    "Chapter 2 Problems/Computer Lab: 2-2, 2-6, 2-8\n",
    "\n",
    "*FYI 1: Some parts of the text problems ask you to take an action, but do not ask you a specific question. In such cases, the implicit question is to write one or two sentences that demonstrate that you took the action and understood its intent. You might describe what you observe, perhaps taking a screenshot, note something that you've learned or questions that have been raised.*\n",
    "\n",
    "*FYI 2: It's not a bad idea to look through all of the text's \"Discussion Questions\", \"Problems/Computer Lab\" and the \"Self-Test Quiz\", whether assigned as homework or not. They or modified/recombined versions of them are likely to appear on the midterm.*\n",
    "\n",
    "**Submission**\n",
    "\n",
    "Submit your solutions as a link to a Gist via a Slack DM. You are welcome to compose your solutions to the textbook problems in a word-processing program, although you may also simply use this python notebook. If you do end up with multiple files, please ensure that you add all of them in a single Gist, rather than creating multiple Gists. (To add files to a Gist, look for the \"Add File\" button in the lower left.)"
   ]
  },
  {
   "cell_type": "markdown",
   "metadata": {},
   "source": [
    "### Problem 1\n",
    "\n",
    "Use the `open()` command below to load in 'height_weight.txt', which\n",
    "contains 200 records of human heights and weights, one\n",
    "record to a line, separated by commas. Consulting [this tutorial](http://matplotlib.org/users/pyplot_tutorial.html), write some code\n",
    "that uses matplotlib to make a PNG image plotting\n",
    "these data in a scatter plot in this notebook. Plot height on the x-axis\n",
    "and weight on the y-axis. Label the axes\n",
    "appropriately. Style the plot as you like. :)"
   ]
  },
  {
   "cell_type": "code",
   "execution_count": 3,
   "metadata": {
    "collapsed": true
   },
   "outputs": [],
   "source": [
    "# -- Some standard imports for the plotting package matplotlib,\n",
    "#    and some setup. You'll want to leave these as is.\n",
    "import matplotlib.pyplot as plt\n",
    "%matplotlib inline\n",
    "plt.rcParams['figure.figsize'] = [12.0, 8.0]"
   ]
  },
  {
   "cell_type": "code",
   "execution_count": 4,
   "metadata": {
    "collapsed": false
   },
   "outputs": [],
   "source": [
    "# -- Parse data from file into two python lists. You'll need to understand how\n",
    "#    this code works in order to solve the next problem.\n",
    "\n",
    "# -- initialize some variables to hold on to our data\n",
    "# -- lists are a natural choice, because we want to preserve the paired\n",
    "#    relationship between height and weight\n",
    "# -- other sensible options are available though...\n",
    "heights, weights = [], []\n",
    "\n",
    "# -- this means: open up the indicated file, and process it line-by-line\n",
    "for line in open('height_weight.txt'):\n",
    "    if line.startswith('Height'):\n",
    "        # skip header line\n",
    "        continue\n",
    "    \n",
    "    # break up the line into its 'words', which are delimited by commas\n",
    "    ht, wt = line.strip().split(',')\n",
    "    \n",
    "    # two critical things happen in each of these respective lines:\n",
    "    #   1. the string representing the height(weight) is cast to a float (ie, a floating-point number)\n",
    "    #   2. the number is appended to the appropriate list\n",
    "    heights.append(float(ht))\n",
    "    weights.append(float(wt))"
   ]
  },
  {
   "cell_type": "code",
   "execution_count": 46,
   "metadata": {
    "collapsed": false
   },
   "outputs": [
    {
     "data": {
      "image/png": "[encoded data removed]",
      "text/plain": [
       "<matplotlib.figure.Figure at 0x16e7c40fcf8>"
      ]
     },
     "metadata": {},
     "output_type": "display_data"
    }
   ],
   "source": [
    "# -- Put your solution in this cell. The resulting output should be a legible plot.\n",
    "plt.plot(heights,weights,'go')\n",
    "plt.axis([62,75,90,165])\n",
    "plt.xlabel('Height (in)', fontsize=14)\n",
    "plt.ylabel('Weight (lbs)', fontsize=14)\n",
    "\n",
    "plt.show()"
   ]
  },
  {
   "cell_type": "markdown",
   "metadata": {},
   "source": [
    "### Problem 2\n",
    "\n",
    "The data file 'genetic_code.txt'\n",
    "contains the mapping from DNA codon triplet to amino\n",
    "acid code, one mapping per line. (The amino acid\n",
    "'encoded' by a stop codon is an '*'.) Using this file,\n",
    "produce a dictionary named 'genetic_code', which maps\n",
    "codon onto amino acid.\n",
    "\n",
    "Your solution must pass the included tests."
   ]
  },
  {
   "cell_type": "code",
   "execution_count": 1,
   "metadata": {
    "collapsed": false,
    "scrolled": true
   },
   "outputs": [],
   "source": [
    "genetic_code = {}\n",
    "for i in open('genetic_code.txt'):\n",
    "    codon, amino_acid = i.strip().split()\n",
    "    genetic_code[codon] = amino_acid"
   ]
  },
  {
   "cell_type": "code",
   "execution_count": 3,
   "metadata": {
    "collapsed": false
   },
   "outputs": [],
   "source": [
    "# -- Test your solution here. If the `assert` condition is True, then nothing will happen,\n",
    "#    which is what you want. If the condition is False, an error that you need to resolve\n",
    "#    will be shown.\n",
    "assert len(genetic_code) == 64\n",
    "assert genetic_code['CCC'] == 'P'\n",
    "assert genetic_code['TGA'] == '*'"
   ]
  },
  {
   "cell_type": "markdown",
   "metadata": {},
   "source": [
    "### Problem 3\n",
    "\n",
    "Write a function `chunk`, taking one string argument\n",
    "'in_string' and one integer argument 'size', that\n",
    "chunks 'in_string' into consecutive strings of length\n",
    "'size', and returns the strings in a list. If there\n",
    "are leftover characters, because 'in_string's length\n",
    "is not a multiple of 'size', ignore them.\n",
    "\n",
    "Your function must pass the included tests."
   ]
  },
  {
   "cell_type": "code",
   "execution_count": 16,
   "metadata": {
    "collapsed": false
   },
   "outputs": [],
   "source": [
    "def chunk(in_string, size):\n",
    "    ret_list = []\n",
    "    while len(in_string) >= size:\n",
    "        ret_list.append(in_string[:size])\n",
    "        in_string = in_string[size:]\n",
    "    return ret_list"
   ]
  },
  {
   "cell_type": "code",
   "execution_count": 17,
   "metadata": {
    "collapsed": false
   },
   "outputs": [],
   "source": [
    "# -- Test your solution here.\n",
    "test_string = 'chapman panthers' \n",
    "assert chunk(test_string, 3) == ['cha', 'pma', 'n p', 'ant', 'her']\n",
    "assert chunk(test_string, 4) == ['chap', 'man ', 'pant', 'hers']\n",
    "assert chunk(test_string, 1) == ['c', 'h', 'a', 'p', 'm', 'a', 'n', ' ', 'p', 'a', 'n', 't', 'h', 'e', 'r', 's']\n",
    "assert chunk('', 3) == []"
   ]
  },
  {
   "cell_type": "markdown",
   "metadata": {},
   "source": [
    "### Problem 4\n",
    "\n",
    "Re-use your answers from problems 2 and 3 to write a\n",
    "function 'translate' that translates a DNA sequence\n",
    "into its corresponding protein sequence. You may assume that any supplied DNA\n",
    "sequences will only include the characters A, C, G, and T, but you may not assume that\n",
    "these characters will be uppercase. The protein sequence that you produce should use only upper case characters.\n",
    "If you\n",
    "encounter a stop codon, you should show the stop\n",
    "codon, but then cease further translation. If your DNA\n",
    "sequence length is not a multiple of 3, ignore the\n",
    "extra nucleotides on the trailing (rightmost) end. \n"
   ]
  },
  {
   "cell_type": "code",
   "execution_count": 30,
   "metadata": {
    "collapsed": false
   },
   "outputs": [],
   "source": [
    "def translate(sequence):\n",
    "    sequence = sequence.upper()\n",
    "    protein = ''\n",
    "    for i in chunk(sequence,3):\n",
    "        protein += genetic_code[i]\n",
    "        if genetic_code[i] is '*':\n",
    "            return protein\n",
    "    return protein"
   ]
  },
  {
   "cell_type": "code",
   "execution_count": 31,
   "metadata": {
    "collapsed": false
   },
   "outputs": [],
   "source": [
    "# -- Test your solution here.\n",
    "assert translate('GATTACA') == 'DY'\n",
    "assert translate('gatTACa') == 'DY'\n",
    "assert translate('GGCTGAAGACCTAACCGTTC') == 'G*'\n",
    "assert translate('') == ''"
   ]
  },
  {
   "cell_type": "markdown",
   "metadata": {
    "collapsed": true
   },
   "source": [
    "## Textbook Problem 2-2\n",
    "\n",
    "(1) NC_006478.3 - found @ http://www.ncbi.nlm.nih.gov/gene/450978\n",
    "\n",
    "(2) http://www.ncbi.nlm.nih.gov/homologene/68066 \n",
    "    This step involved going to HomoloGene and searching for beta globin, which returned a list of 4 results that included beta globin."
   ]
  },
  {
   "cell_type": "markdown",
   "metadata": {},
   "source": [
    "## Textbook Problem 2-6\n",
    "\n",
    "(1) The Ensembl resource for humans is easily accessible by Google search. The page is broken up into 5 categories in which there are links to actions you can take with their data.\n",
    "\n",
    "(2) The region we selected is about 3/5 of the way up the chromosome, in p15.4.\n",
    "\n",
    "(3) The region we selected is 6000 base pairs wide.  Depending on how we define \"flank\", there are about 11 olfactory receptor genes flanking the region we selected. There is exactly 1 olfactory receptor gene in our region.\n",
    "\n",
    "(4) The next panel is zoomed in entirely on the region we selected. I can see how this can be useful when we need to know exactly what is going on in a certain region (e.g. what genes are in that region)."
   ]
  },
  {
   "cell_type": "markdown",
   "metadata": {},
   "source": [
    "## Textbook Problem 2-8\n",
    "\n",
    "(1) The UCSC hgGateway is pretty simple to use. I like that it shows suggestions when you type in a certain recognized gene.\n",
    "\n",
    "(2) This seems to be the same position we were in the earlier exercise on GenBank.\n",
    "\n",
    "(3) Selecting full for the RepeatMasker separates the two blocks so that there is one block left and above the other.\n",
    "\n",
    "(4) The answer is (d) There is one LINE element and one low-complexity element."
   ]
  },
  {
   "cell_type": "code",
   "execution_count": null,
   "metadata": {
    "collapsed": true
   },
   "outputs": [],
   "source": []
  }
 ],
 "metadata": {
  "kernelspec": {
   "display_name": "Python 3",
   "language": "python",
   "name": "python3"
  },
  "language_info": {
   "codemirror_mode": {
    "name": "ipython",
    "version": 3
   },
   "file_extension": ".py",
   "mimetype": "text/x-python",
   "name": "python",
   "nbconvert_exporter": "python",
   "pygments_lexer": "ipython3",
   "version": "3.5.1"
  }
 },
 "nbformat": 4,
 "nbformat_minor": 0
}
