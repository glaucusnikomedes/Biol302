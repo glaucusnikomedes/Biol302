{
 "cells": [
  {
   "cell_type": "markdown",
   "metadata": {},
   "source": [
    "# Bio 302 Homework 4\n",
    "\n",
    "All the problems from this week's notebook are in this notebook; there are no problems from the book, although the book will be helpful in answering some of the problems.\n",
    "\n",
    "**Submission**\n",
    "\n",
    "Submit your solutions as a link to a Gist via a Slack DM."
   ]
  },
  {
   "cell_type": "markdown",
   "metadata": {},
   "source": [
    "## Problem 1\n",
    "\n",
    "Write a function named `score_candidates`, that\n",
    "identifies the best-scoring sequence alignment(s) from a\n",
    "file containing some sequence alignments. The function\n",
    "takes three arguments:\n",
    "\n",
    "- the filename of the alignments file\n",
    "- the filename of the scoring matrix file\n",
    "- an integer gap penalty, typically negative\n",
    "\n",
    "A scoring matrix file looks like this:\n",
    "\n",
    "```\n",
    "A,C,G,T\n",
    "10\n",
    "-5,10\n",
    "0,-5,10\n",
    "-5,0,-5,10\n",
    "```\n",
    "\n",
    "This is the exact contents of the provided example\n",
    "scoring file, `dna_scores_1.txt`.\n",
    "\n",
    "What this data file corresponds to is a scoring table like this:\n",
    "\n",
    "```\n",
    "+---+----+----+----+----+\n",
    "|   | A  | C  | G  | T  |\n",
    "+---+----+----+----+----+\n",
    "|   |    |    |    |    |\n",
    "| A | 10 | -5 |  0 | -5 |\n",
    "|   |    |    |    |    |\n",
    "| C | -5 | 10 | -5 |  0 |\n",
    "|   |    |    |    |    |\n",
    "| G |  0 | -5 | 10 | -5 |\n",
    "|   |    |    |    |    |\n",
    "| T | -5 |  0 | -5 | 10 |\n",
    "+---+----+----+----+----+\n",
    "```\n",
    "\n",
    "It gives the scores for all possible alignments of the\n",
    "allowed characters in the sequence. For example,\n",
    "aligning a 'C' with 'C' adds 10 to your score, but\n",
    "aligning a 'C' with an 'A' adds -5 to your score.\n",
    "\n",
    "The first line of the data file contains the allowed\n",
    "characters in the sequence, separated by commas. There\n",
    "should then follow as many lines as there are\n",
    "characters, with scores separated by commas; here,\n",
    "there are four subsequent lines. It is implied that\n",
    "each successive line corresponds to the character in\n",
    "the header, so the '10' on its own corresponds to the\n",
    "'A'; the '-5,10' corresponds to 'C', and so on. Only\n",
    "the lower-left side of the matrix is given, because\n",
    "the matrices are symmetric.\n",
    "\n",
    "The alignments file has lines like this, with two\n",
    "aligned sequences separated by a comma, and no extra\n",
    "spaces:\n",
    "\n",
    "```\n",
    "TAGCAT---,TAC--GCAA\n",
    "TAGCAT---,TAC-G-CAA\n",
    "TAGCAT---,TACG--CAA\n",
    "TAGCAT--,-TACGCAA\n",
    "TAGCAT--,T-ACGCAA\n",
    "TAGCAT--,TA-CGCAA\n",
    "TAGCAT--,TAC-GCAA\n",
    "TAGCAT--,TACG-CAA\n",
    "TAGCAT--,TACGC-AA\n",
    "TAGCAT-,TACGCAA\n",
    "```\n",
    "\n",
    "Your function should compute the scores for each\n",
    "candidate alignment in the alignments file specified on the\n",
    "command line. The score should be computed as\n",
    "specified by the gap penalty and the scoring matrix\n",
    "given on the command line. In particular, the score of\n",
    "an alignment is simply the sum of the individual\n",
    "character-alignment scores, including gaps.\n",
    "\n",
    "Your function should return a dictionary. The dictionary\n",
    "should have two keys, one called `score`, which gives the value\n",
    "of the best score alignment, and a key called `alignments`,\n",
    "which is a list of length at least one, containing the winning\n",
    "candidate alignments(s).\n",
    "\n",
    "Examples:\n",
    "\n",
    "```\n",
    "In [7]: score_candidates('test_alignment_01.txt', 'dna_scores_1.txt', -4)\n",
    "Out[7]: {'alignments': [('T-AG', 'TGA-'), ('TAG-', 'T-GA')], 'score': 12}\n",
    "\n",
    "In [8]: score_candidates('test_alignment_02.txt', 'dna_scores_1.txt', -4)\n",
    "Out[8]: {'alignments': [('TAG', 'TAG')], 'score': 30}\n",
    "```\n",
    "\n",
    "If your function is correctly implemented, it should produce the same output as above. Demonstrate that this is the case in your solution."
   ]
  },
  {
   "cell_type": "code",
   "execution_count": null,
   "metadata": {
    "collapsed": true
   },
   "outputs": [],
   "source": [
    "# -- Put your solution to Problem 1 here."
   ]
  },
  {
   "cell_type": "markdown",
   "metadata": {},
   "source": [
    "## Problem 2\n",
    "\n",
    "Use your function from Problem 1 to find the best-scoring alignments\n",
    "in the provided file `alignments_TAGCAT_TACGCAA.txt`. This file\n",
    "contains all possible alignments of the sequences\n",
    "`TAGCAT` and `TACGCAA`, in the format described above. Use the scoring matrix in\n",
    "provided file `dna_scores_1.txt` for all parts of this\n",
    "problem.\n",
    "\n",
    "(a) What are the winning alignment(s) when the gap\n",
    "    penalty is -4?\n",
    "\n",
    "(b) Experiment with gap penalties both smaller and larger than -4. Explain how and why the winning alignments change in relation to the gap penalty."
   ]
  },
  {
   "cell_type": "code",
   "execution_count": null,
   "metadata": {
    "collapsed": true
   },
   "outputs": [],
   "source": [
    "# -- Put your solution to Problem 2 here."
   ]
  },
  {
   "cell_type": "markdown",
   "metadata": {},
   "source": [
    "## Problem 3\n",
    "\n",
    "Make a dynamic programming table for the sequences in\n",
    "Problem 2, i.e. `TAGCAT` and `TACGCAA`. The gap\n",
    "penalty should be -4, and the scoring matrix should be\n",
    "as in `dna_scores_1.txt`.\n",
    "\n",
    "You can produce the table by hand or on a computer. In\n",
    "either case, make sure you show the traceback arrows\n",
    "in your diagram. Check out the markdown source in this cell\n",
    "to see how to include the picture in your notebook. (You'll either need to place the image file\n",
    "in the same directory as your notebook, or give the full path to the file.)\n",
    "\n",
    "![Hambone is a Shar Pug!](hambone.jpg)\n",
    "\n",
    "Is/are the best alignment(s) you produce using the dynamic programming table the same as in Problem 2a? Explain."
   ]
  },
  {
   "cell_type": "code",
   "execution_count": null,
   "metadata": {
    "collapsed": true
   },
   "outputs": [],
   "source": [
    "# -- Put your solution to Problem 3 here."
   ]
  },
  {
   "cell_type": "markdown",
   "metadata": {},
   "source": [
    "## Problem 4\n",
    "\n",
    "One of the big advantages of the python language is that there is a wide variety of libraries available to augment the core python functionality. You can just install and `import` these libraries, and immediately make use of them.\n",
    "\n",
    "You've seen one such important external library already, `matplotlib`, which is the de facto python library for plotting. Another is `jupyter`, which provides the notebook in which you're reading this.\n",
    "\n",
    "Another important library is `biopython`. It provides a bunch of bioinformatics-related functionality. One of the many things it does is to provide reference versions of the common protein alignment substitution tables. Here's how to get at them. (These commands should work for you, because biopython is included in Anaconda; if they don't, let me know.)\n",
    "\n",
    "```\n",
    "In [60]: from Bio.SubsMat import MatrixInfo\n",
    "\n",
    "In [62]: print(MatrixInfo.available_matrices)\n",
    "['benner6', 'benner22', 'benner74', 'blosum100', 'blosum30', 'blosum35', 'blosum40', 'blosum45', 'blosum50', 'blosum55', 'blosum60', 'blosum62', 'blosum65', 'blosum70', 'blosum75', 'blosum80', 'blosum85', 'blosum90', 'blosum95', 'feng', 'fitch', 'genetic', 'gonnet', 'grant', 'ident', 'johnson', 'levin', 'mclach', 'miyata', 'nwsgappep', 'pam120', 'pam180', 'pam250', 'pam30', 'pam300', 'pam60', 'pam90', 'rao', 'risler', 'structure']\n",
    "```\n",
    "\n",
    "You'll recognize a bunch of these, the BLOSUM family and the PAM family. If you've imported `MatrixInfo`, you can access any of these matrices just by typing the name above after `MatrixInfo`. E.g. `MatrixInfo.blosum62` gives you the BLOSUM62 substitution matrix.\n",
    "\n",
    "Use biopython to print out and inspect the PAM250 scoring matrix.\n",
    "\n",
    "(a) What do large positive values in the matrix mean?\n",
    "\n",
    "(b) What do large negative values in the matrix mean?\n",
    "\n",
    "(c) What do zero values in the matrix mean?\n",
    "\n",
    "(d) What are the largest and smallest scores in the\n",
    "matrix, respectively? Does that make sense to you?\n",
    "Explain."
   ]
  },
  {
   "cell_type": "code",
   "execution_count": null,
   "metadata": {
    "collapsed": true
   },
   "outputs": [],
   "source": [
    "from Bio.SubsMat import MatrixInfo"
   ]
  },
  {
   "cell_type": "code",
   "execution_count": null,
   "metadata": {
    "collapsed": false
   },
   "outputs": [],
   "source": [
    "print(MatrixInfo.available_matrices)"
   ]
  },
  {
   "cell_type": "code",
   "execution_count": null,
   "metadata": {
    "collapsed": false
   },
   "outputs": [],
   "source": [
    "MatrixInfo.blosum62"
   ]
  },
  {
   "cell_type": "code",
   "execution_count": null,
   "metadata": {
    "collapsed": true
   },
   "outputs": [],
   "source": [
    "# -- Solution to 4 here."
   ]
  },
  {
   "cell_type": "markdown",
   "metadata": {},
   "source": [
    "## Problem 5\n",
    "\n",
    "Use biopyhon to compare the PAM30 scoring matrix at\n",
    " with the PAM250 scoring\n",
    "matrix.\n",
    "\n",
    "(a) Overall, how do the entries in the two matrices\n",
    "differ from one another? You'll want to compare the\n",
    "diagonal entries between the two matrices, and then\n",
    "compare the off-diagonal entries. Give specific examples of amino acid pairs if\n",
    "that helps.\n",
    "\n",
    "(b) Explain the differences you see in the matrices,\n",
    "in terms of what you know about PAM30 and PAM250. Give\n",
    "examples of amino acid pairs if that helps."
   ]
  },
  {
   "cell_type": "code",
   "execution_count": null,
   "metadata": {
    "collapsed": true
   },
   "outputs": [],
   "source": [
    "# -- Solution to 5 here."
   ]
  }
 ],
 "metadata": {
  "kernelspec": {
   "display_name": "Python 3",
   "language": "python",
   "name": "python3"
  },
  "language_info": {
   "codemirror_mode": {
    "name": "ipython",
    "version": 3
   },
   "file_extension": ".py",
   "mimetype": "text/x-python",
   "name": "python",
   "nbconvert_exporter": "python",
   "pygments_lexer": "ipython3",
   "version": "3.5.1"
  }
 },
 "nbformat": 4,
 "nbformat_minor": 0
}
