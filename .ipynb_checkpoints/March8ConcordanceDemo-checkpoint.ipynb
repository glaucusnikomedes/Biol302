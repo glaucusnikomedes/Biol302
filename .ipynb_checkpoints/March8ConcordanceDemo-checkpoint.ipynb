{
 "cells": [
  {
   "cell_type": "code",
   "execution_count": 1,
   "metadata": {
    "collapsed": true
   },
   "outputs": [],
   "source": [
    "import string\n",
    "\n",
    "STOP_WORDS = 'a about above across after again against all almost alone along already also although always among an and another any anybody anyone anything anywhere are area areas around as ask asked asking asks at away b back backed backing backs be became because become becomes been before began behind being beings best better between big both but by c came can cannot case cases certain certainly clear clearly come could d did differ different differently do does done down down downed downing downs during e each early either end ended ending ends enough even evenly ever every everybody everyone everything everywhere f face faces fact facts far felt few find finds first for four from full fully further furthered furthering furthers g gave general generally get gets give given gives go going good goods got great greater greatest group grouped grouping groups h had has have having he her here herself high high high higher highest him himself his how however i if important in interest interested interesting interests into is it its itself j just k keep keeps kind knew know known knows l large largely last later latest least less let lets like likely long longer longest m made make making man many may me member members men might more most mostly mr mrs much must my myself n necessary need needed needing needs never new new newer newest next no nobody non noone not nothing now nowhere number numbers o of off often old older oldest on once one only open opened opening opens or order ordered ordering orders other others our out over p part parted parting parts per perhaps place places point pointed pointing points possible present presented presenting presents problem problems put puts q quite r rather really right right room rooms s said same saw say says second seconds see seem seemed seeming seems sees several shall she should show showed showing shows side sides since small smaller smallest so some somebody someone something somewhere state states still still such sure t take taken than that the their them then there therefore these they thing things think thinks this those though thought thoughts three through thus to today together too took toward turn turned turning turns two u under until up upon us use used uses v very w want wanted wanting wants was way ways we well wells went were what when where whether which while who whole whose why will with within without work worked working works would x y year years yet you young younger youngest your yours z'.split()\n",
    "\n",
    "def concordance(text):\n",
    "    '''From the string text, build up a dictionary of all the\n",
    "       whitespace-separated words occurring in text, where the key is\n",
    "       the word and the value is the number of occurrences in text.\n",
    "       \n",
    "       Ignore stop words as defined in STOP_WORDS, strip punctuation\n",
    "       from the ends of words, and convert all to lower case.\n",
    "    '''\n",
    "    db = {}\n",
    "    for w in text.lower().split():\n",
    "        w = w.strip(string.punctuation)\n",
    "        if (w in STOP_WORDS) or (w == ''):\n",
    "            continue\n",
    "        # -- Some code is missing, here!\n",
    "    return db"
   ]
  },
  {
   "cell_type": "code",
   "execution_count": 2,
   "metadata": {
    "collapsed": true
   },
   "outputs": [],
   "source": [
    "def top_n(dd, n=10):\n",
    "    '''Return a list of up to n (key, value) pairs from dictionary dd\n",
    "       ordered by highest value.\n",
    "    '''\n",
    "    dd_sort = sorted(dd.items(), key=lambda x: (-x[1], x[0]))\n",
    "    return dd_sort[:n]"
   ]
  },
  {
   "cell_type": "code",
   "execution_count": 3,
   "metadata": {
    "collapsed": true
   },
   "outputs": [],
   "source": [
    "# from the NYT front page, 8 Mar 2016\n",
    "sample = '''Is Trump Fading?\n",
    "\n",
    "Mr. Trump had a rough week. He faced attacks from the party establishment and criticism for his debate performance on Thursday before barely outpacing Senator Ted Cruz of Texas on Saturday in Kentucky and Louisiana, and losing to him in Kansas and Maine, where Mr. Trump was considered a favorite.\n",
    "\n",
    "But it is not clear whether he struggled to win because he had lost ground or because anti-Trump voters had consolidated around Mr. Cruz. Mr. Trump’s share of the vote on Saturday was roughly in line with what he had won on Super Tuesday; Mr. Cruz finished with a far higher share of the vote than his Super Tuesday total.\n",
    "\n",
    "The outcome on Tuesday could be telling. If Mr. Trump were to replicate his Super Tuesday performance, he would take about 35 percent of the vote in Michigan and 42 percent in Mississippi. If he were to lose significant ground from last week’s vote, it could present an opening for one of his rivals.\n",
    "'''\n",
    "\n",
    "content = ' '.join(sample.strip().split('\\n')) # here's an example of how to prep the text"
   ]
  },
  {
   "cell_type": "markdown",
   "metadata": {},
   "source": [
    "### Tasks\n",
    "\n",
    "1. Modify the `concordance` function so that it works as described.\n",
    "2. Build a concordance of the provided `sample` above, and print out the top ten most-frequently occurring words.\n",
    "3. Find three samples of text from the web and show the **25** most-frequently occurring words in each. You might find it interesting to take three contrasting takes on the same event/idea/topic...\n",
    "\n",
    "Ideas: Project Gutenberg, State of the Union addresses, NY Times, Wikipedia, Buzzfeed, (tamer parts of) reddit, fb, twitter..."
   ]
  },
  {
   "cell_type": "code",
   "execution_count": null,
   "metadata": {
    "collapsed": true
   },
   "outputs": [],
   "source": [
    "# You can work in this cell, but note that the implementation of concordance above is broken, so you'll need to fix it."
   ]
  }
 ],
 "metadata": {
  "kernelspec": {
   "display_name": "Python 3",
   "language": "python",
   "name": "python3"
  },
  "language_info": {
   "codemirror_mode": {
    "name": "ipython",
    "version": 3
   },
   "file_extension": ".py",
   "mimetype": "text/x-python",
   "name": "python",
   "nbconvert_exporter": "python",
   "pygments_lexer": "ipython3",
   "version": "3.5.1"
  }
 },
 "nbformat": 4,
 "nbformat_minor": 0
}
