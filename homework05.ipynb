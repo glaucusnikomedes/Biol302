{
 "cells": [
  {
   "cell_type": "markdown",
   "metadata": {},
   "source": [
    "# Bio 302 Homework 5\n",
    "\n",
    "There are two parts to this homework, some problems presented her and some problems from the textbook.\n",
    "\n",
    "**Part 1: This Notebook**\n",
    "\n",
    "Complete the python/exploration problems in this notebook. Please solve them in the indicated space, and ensure that your solutions pass all supplied tests.\n",
    "\n",
    "**Part 2: Textbook**\n",
    "\n",
    "Read Chapter 4 on BLAST.\n",
    "\n",
    "Under Problems/Computer Lab, p. 161, do\n",
    "\n",
    "- 4.3 (Mosses)\n",
    "- 4.7 (Pol protein)\n",
    "- 4.9 (E values)\n",
    "\n",
    "**Submission**\n",
    "\n",
    "Submit your solutions as a link to a Gist via a Slack DM, a/o send me your doc directly via DM. (Saves me a little time if you export to PDF first, and ensures I see what you intend me to see.)"
   ]
  },
  {
   "cell_type": "markdown",
   "metadata": {},
   "source": [
    "## Problem 1\n",
    "\n",
    "Consider the GAPC-1 cDNA and GAPC-1 genomic DNA\n",
    "sequences you used in Homework 3 (the dot\n",
    "plot homework). In this problem you're going to align\n",
    "them using the tools at\n",
    "https://www.ebi.ac.uk/Tools/psa/.\n",
    "\n",
    "(a) Run a Needleman-Wunsch pairwise alignment on the\n",
    "    two sequences. Include the output, or a screenshot\n",
    "    thereof, in your doc.\n",
    "\n",
    "(b) Run a Smith-Waterman pairwise alignment on the\n",
    "    two sequences. Include the output, or a screenshot\n",
    "    thereof, in your doc.\n",
    "\n",
    "(c) Compare/contrast the two alignments from (a) and\n",
    "    (b).\n",
    "\n",
    "(d) Do these alignments agree or disagree with the\n",
    "    results you saw in Homework 3? Explain."
   ]
  },
  {
   "cell_type": "code",
   "execution_count": null,
   "metadata": {
    "collapsed": true
   },
   "outputs": [],
   "source": [
    "# -- Put your solution to Problem 1 here,\n",
    "#    or in a word-processing doc if you like."
   ]
  },
  {
   "cell_type": "markdown",
   "metadata": {},
   "source": [
    "## Problem 2\n",
    "\n",
    "You have an unknown DNA sequence in \"unknown.txt\". Run\n",
    "a BLAST on it at NCBI or Ensembl.\n",
    "\n",
    "(a) What is the E-value and bit score of the best hit\n",
    "    (in this case, the first matching sequence)?\n",
    "\n",
    "(b) What is the most likely identity of this sequence?\n",
    "    (click on the blue link to the left of the top hit)\n",
    "\n",
    "(c) What is the title of the scientific publication\n",
    "    that reported this sequence?\n",
    "\n",
    "Now run a blast on just the first 135 residues of the sequence.\n",
    "\n",
    "(d) What do you observe about the E-values? What is\n",
    "    the E-value and score of the best hit (the first\n",
    "    matching sequence)?\n",
    "\n",
    "(e) Is the identity of the best hit different from\n",
    "    when you used the complete nucleotide sequence? Is\n",
    "    it the same gene as identified before?\n",
    "\n",
    "(f) From the two BLAST searches, what can you deduce\n",
    "    about how the length of a query sequence affects\n",
    "    your confidence in the sequence search?\n",
    "\n",
    "(g) Why is the organism from whom this sequence was\n",
    "    taken significant? One good sentence should\n",
    "    do. Please cite any references you use."
   ]
  },
  {
   "cell_type": "code",
   "execution_count": null,
   "metadata": {
    "collapsed": true
   },
   "outputs": [],
   "source": [
    "# -- Put your solution to Problem 2 here,\n",
    "#    or in a doc if you like."
   ]
  },
  {
   "cell_type": "code",
   "execution_count": null,
   "metadata": {
    "collapsed": true
   },
   "outputs": [],
   "source": []
  }
 ],
 "metadata": {
  "kernelspec": {
   "display_name": "Python 3",
   "language": "python",
   "name": "python3"
  },
  "language_info": {
   "codemirror_mode": {
    "name": "ipython",
    "version": 3
   },
   "file_extension": ".py",
   "mimetype": "text/x-python",
   "name": "python",
   "nbconvert_exporter": "python",
   "pygments_lexer": "ipython3",
   "version": "3.5.1"
  }
 },
 "nbformat": 4,
 "nbformat_minor": 0
}
