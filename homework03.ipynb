{
 "cells": [
  {
   "cell_type": "markdown",
   "metadata": {},
   "source": [
    "# Bio 302 Homework 3\n",
    "\n",
    "There are two parts to this homework, some python work and some problems from the textbook.\n",
    "\n",
    "**Part 1: Python**\n",
    "\n",
    "Complete the python/exploration problems in this notebook. Please solve them in the indicated space, and ensure that your solutions pass all supplied tests.\n",
    "\n",
    "**Part 2: Textbook**\n",
    "\n",
    "Read Chapter 3 up to page 96; that's where the section on alignment algorithms starts.\n",
    "\n",
    "Chapter 3 Discussion Questions: 3-2, 3-3\n",
    "\n",
    "**Submission**\n",
    "\n",
    "Submit your solutions as a link to a Gist via a Slack DM. You are welcome to compose your solutions to the textbook problems in a word-processing program, although you may also simply use this python notebook. If you do end up with multiple files, please ensure that you add all of them in a single Gist, rather than creating multiple Gists. (To add files to a Gist, look for the \"Add File\" button in the lower left.)"
   ]
  },
  {
   "cell_type": "code",
   "execution_count": 2,
   "metadata": {
    "collapsed": true
   },
   "outputs": [],
   "source": [
    "# -- Some standard imports for the plotting package matplotlib,\n",
    "#    and some setup. You'll want to leave these as is.\n",
    "import matplotlib.pyplot as plt\n",
    "%matplotlib inline\n",
    "plt.rcParams['figure.figsize'] = [12.0, 8.0]"
   ]
  },
  {
   "cell_type": "markdown",
   "metadata": {},
   "source": [
    "## Problem 1\n",
    "\n",
    "Write a function called `print_gc_contents` that\n",
    "takes one argument, the name of a valid fasta file\n",
    "whose header lines follow the template `>species,gene,url`. So an example header line might be `'>chimp,BRCA1,http://chimp.genomics.io/brca1'`. For each sequence in the file, print out one line\n",
    "containing the species name, a space, and then the\n",
    "proportion of nucleotides in the sequence that are G's\n",
    "or C's, i.e. the GC content.\n"
   ]
  },
  {
   "cell_type": "code",
   "execution_count": 3,
   "metadata": {
    "collapsed": false,
    "scrolled": true
   },
   "outputs": [
    {
     "name": "stdout",
     "output_type": "stream",
     "text": [
      "martian 0.6352558895207149\n",
      "unicorn 0.7049019607843138\n"
     ]
    }
   ],
   "source": [
    "def read_fasta_file(filename):\n",
    "    contents = open(filename).read()\n",
    "    out = []\n",
    "    for seqrec in contents.split('>'):\n",
    "        if not seqrec:\n",
    "            continue\n",
    "        lines = seqrec.split('\\n')\n",
    "        header = lines[0]\n",
    "        seq = ''.join(lines[1:])\n",
    "        out.append(dict(header=header, sequence=seq))\n",
    "    return out\n",
    "def print_gc_contents(fname):\n",
    "    contents = read_fasta_file(fname)\n",
    "    for seq in contents:\n",
    "        header = seq['header'].split(',')\n",
    "        gc_count = seq['sequence'].count('G') + seq['sequence'].count('C')\n",
    "        total = gc_count + seq['sequence'].count('A') + seq['sequence'].count('T')\n",
    "        print(header[0] + ' ' + str(gc_count / total))\n",
    "print_gc_contents('example.fasta')"
   ]
  },
  {
   "cell_type": "markdown",
   "metadata": {},
   "source": [
    "### Testing\n",
    "\n",
    "A file called `example.fasta` has been provided. Here's the output of a session run with a correct implemention of `print_gc_contents`:\n",
    "\n",
    "```\n",
    "In [1]: print_gc_contents('example.fasta')\n",
    "martian 0.635255889521\n",
    "unicorn 0.704901960784\n",
    "```\n",
    "\n",
    "Your implementation should give precisely the same results."
   ]
  },
  {
   "cell_type": "markdown",
   "metadata": {},
   "source": [
    "## Problem 2\n",
    "\n",
    "Write a function called `dot_plot` that\n",
    "produces a [dot plot](http://en.wikipedia.org/wiki/Dot_plot_%28bioinformatics%29).\n",
    "\n",
    "A dot plot lets you examine two DNA or protein\n",
    "sequences for similarity. The plot is conceptually an\n",
    "m-by-n grid of cells, for sequence 1 of length m, and\n",
    "sequence 2 of length n. If a window of radius r about\n",
    "position i in sequence 1 is identical to a window of\n",
    "radius r about position j in sequence 2, then a dot is\n",
    "plotted in the grid. If they're not identical, nothing\n",
    "is plotted.\n",
    "\n",
    "A 'window' is a region of consecutive nucleotides\n",
    "around some focal nucleotide. Say I had the DNA\n",
    "sequence 'ACATTAG'. Assume that my focal nucleotide is\n",
    "the first 'T'. The window of radius 1 about that 'T'\n",
    "is 'ATT'. The window of radius 2 about that 'T', is\n",
    "'CATTA'. The window of radius 3 about the 'T' is\n",
    "'ACATTAG', three nucleotides on either side. Observe\n",
    "that, in python, if i is the index of my focal\n",
    "nucleotide, let's assume it's in a variable 'sequence'\n",
    "of string type, then a window of radius r is given by\n",
    "'sequence[i - r:i + r + 1]'.\n",
    "\n",
    "The grid description above suggests an algorithm. In\n",
    "English, for all possible pairs of residues in\n",
    "sequence 1 and sequence 2, check to see whether the\n",
    "windows surrounding the residues are identical. If\n",
    "they are, add an ordered pair to be plotted. If\n",
    "they're not, do nothing.\n",
    "\n",
    "And in pseudocode:\n",
    "\n",
    "```python\n",
    "points_to_plot = []\n",
    "for i in range(len(sequence1)):\n",
    "    for j in range(len(sequence2)):\n",
    "       if window(sequence1, i, r) == window(sequence2, i, r):\n",
    "           points_to_plot.append((i, j))\n",
    "```\n",
    "\n",
    "Then you'd plot 'points_to_plot', in matplotlib\n",
    "please. You'd want to suppress the drawing of lines\n",
    "between the points, or you'll get a mess.\n",
    "\n",
    "Your function should accept three\n",
    "arguments. The arguments, in order, are:\n",
    "\n",
    "`fasta_file1 fasta_file2 window_radius`\n",
    "\n",
    "The program operates to make a dot plot, using the\n",
    "first sequence encountered in fasta_file1 on the\n",
    "x-axis, and the first sequence encountered in\n",
    "fasta_file2 on the y-axis.\n",
    "\n",
    "The window radius should be an integer greater than or\n",
    "equal to zero. A window of radius zero means that\n",
    "you're comparing the residues directly, with no\n",
    "surrounding nucleotides.\n",
    "\n",
    "Your program should cause a dot plot to be shown in the notebook.\n",
    "\n",
    "Your program should label the axes with up to the\n",
    "first 30 characters of the header line. Do whatever\n",
    "you like with the plot title and the plot\n",
    "styling/colors."
   ]
  },
  {
   "cell_type": "code",
   "execution_count": 5,
   "metadata": {
    "collapsed": true
   },
   "outputs": [],
   "source": [
    "def dot_plot(fasta_file1,fasta_file2,window_radius):\n",
    "    seq1 = read_fasta_file(fasta_file1)\n",
    "    seq2 = read_fasta_file(fasta_file2)\n",
    "    \n",
    "    \n",
    "    \n",
    "    plt.plot(heights,weights,'go')\n",
    "    plt.axis([62,75,90,165])\n",
    "    plt.xlabel('Height (in)', fontsize=14)\n",
    "    plt.ylabel('Weight (lbs)', fontsize=14)\n",
    "    plt.show()"
   ]
  },
  {
   "cell_type": "markdown",
   "metadata": {},
   "source": [
    "### Testing\n",
    "\n",
    "This is example output from a correctly-implemented `dot_plot('gapc1.fasta', 'gapc2.fasta', 3)`. The example fasta-format files `gapc1.fasta` and `gapc2.fasta` have been provided in the repository.\n",
    "\n",
    "![](./gapc1_v_gapc2_dotplot.png)"
   ]
  },
  {
   "cell_type": "markdown",
   "metadata": {},
   "source": [
    "## Problem 3\n",
    "\n",
    "Grab the 'full length genomic' GAPC-1 sequence from\n",
    "the following page:\n",
    "\n",
    " http://www.arabidopsis.org/servlets/TairObject?id=41963&type=gene\n",
    "\n",
    "This is TAIR, a site that specializes in Arabidopsis\n",
    "sequences, kind of like how Santa Cruz specializes in\n",
    "human sequences.\n",
    "\n",
    "Massage the sequence into a valid FASTA file,\n",
    "`gapc1-genomic.fasta`. You might want to use the\n",
    "search-and-replace function of your editor. Be sure to\n",
    "include your FASTA file in your assignment submission.\n",
    "\n",
    "Make a dot plot with the genomic DNA on the x-axis and\n",
    "the cDNA (from the example file `gapc1.fasta`) on the y-axis. Try a few\n",
    "different radii and choose one that you like. Defend your choice.\n",
    "\n",
    "Then, explain the patterns you see in the dot plot."
   ]
  },
  {
   "cell_type": "code",
   "execution_count": null,
   "metadata": {
    "collapsed": true
   },
   "outputs": [],
   "source": [
    "# -- Put your analysis here. You'll probably want to use a markdown cell as well to discuss your findings."
   ]
  },
  {
   "cell_type": "markdown",
   "metadata": {},
   "source": [
    "## Problem 4\n",
    "\n",
    "Consider NCBI RefSeq ID `NG_029383.1`.\n",
    "\n",
    "1. What human gene does this RefSeq ID correspond to?\n",
    "\n",
    "1. What is the function of that human gene?\n",
    "\n",
    "1. Make a valid FASTA file with the DNA sequence\n",
    "    associated with the RefSeq ID, but only use the\n",
    "    5500th to 7000th nucleotides in the sequence. That\n",
    "    is, you'll find that the sequence is more than 10k\n",
    "    nucleotides long as provided, but I want you to\n",
    "    snip out just these 1500 nucleotides from the\n",
    "    middle and put them in a FASTA file. Please call\n",
    "    the FASTA file `NG_029383.1.middle.fasta` and\n",
    "    include it in your assignment.\n",
    "\n",
    "1. Make a dot plot of this 1500bp sequence against\n",
    "    itself, with some reasonable radius.\n",
    "\n",
    "1. You should see a pretty interesting pattern in\n",
    "    your dot plot. Please explain what's happening\n",
    "    here.\n"
   ]
  },
  {
   "cell_type": "code",
   "execution_count": 1,
   "metadata": {
    "collapsed": true
   },
   "outputs": [],
   "source": [
    "# -- Put your analysis here. You'll probably want to use a markdown cell as well to discuss your findings."
   ]
  },
  {
   "cell_type": "markdown",
   "metadata": {},
   "source": [
    "## Textbook Problem 3-2\n",
    "\n",
    "asd"
   ]
  },
  {
   "cell_type": "markdown",
   "metadata": {},
   "source": [
    "## Textbook Problem 3-3\n",
    "\n",
    "asd"
   ]
  },
  {
   "cell_type": "markdown",
   "metadata": {},
   "source": [
    "EC: Write a program that, given 2 sequences, generate all possible alignments."
   ]
  },
  {
   "cell_type": "markdown",
   "metadata": {},
   "source": [
    "EC: Write a program that implements the Needle-Wunsch algorithm."
   ]
  },
  {
   "cell_type": "code",
   "execution_count": null,
   "metadata": {
    "collapsed": true
   },
   "outputs": [],
   "source": []
  }
 ],
 "metadata": {
  "kernelspec": {
   "display_name": "Python 3",
   "language": "python",
   "name": "python3"
  },
  "language_info": {
   "codemirror_mode": {
    "name": "ipython",
    "version": 3
   },
   "file_extension": ".py",
   "mimetype": "text/x-python",
   "name": "python",
   "nbconvert_exporter": "python",
   "pygments_lexer": "ipython3",
   "version": "3.5.1"
  }
 },
 "nbformat": 4,
 "nbformat_minor": 0
}
